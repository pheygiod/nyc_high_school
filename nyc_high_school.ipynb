{
 "cells": [
  {
   "cell_type": "markdown",
   "id": "73334ee2-580e-4a39-82a6-ab0048e0d48c",
   "metadata": {
    "tags": []
   },
   "source": [
    "# Spotting SAT Test Unfairness - Analysing New York City High School Data"
   ]
  },
  {
   "cell_type": "markdown",
   "id": "c12a5aad-8135-4061-bdae-c4fa2cec10dc",
   "metadata": {},
   "source": [
    "# Table of Content\n",
    "1. Introduction\n",
    "2. Reading in the Data\n",
    "3. Exploring the SAT Data\n",
    "4. Exploring the Remaining Data\n",
    "5. Reading in the Survey Data\n",
    "6. Cleaning Up the Surveys\n",
    "7. Inserting DBN Fields \n",
    "8. Combining the SAT Scores\n",
    "9. Parsing Geographic Coordinates for Schools\n",
    "10. Exctracting the Latitude\n",
    "11. Exctracting the Longitude \n",
    "12. Combining the Data \n",
    "13. Computing Average Class Sizes\n",
    "14. Condensing the Demographics Data Set\n",
    "15. Condensing the Graduation Data Set\n",
    "16. Converting AP Test Scores \n",
    "17. Performing Left Joins\n",
    "18. Performing Inner Joins\n",
    "19. Filling in Missing Values \n",
    "20. Adding a School District Column for Mapping\n",
    "21. Analysing and Visualising the Data \n",
    "22. Finding Correlations with the r Value\n",
    "23. Plotting Enrollment With the Plot() Accessor\n",
    "24. Plotting Language Learning Percentage\n",
    "25. Calculating District-Level Statistics"
   ]
  },
  {
   "cell_type": "code",
   "execution_count": 55,
   "id": "0c62e458-eab0-43e8-bb26-0ccd78ef66a9",
   "metadata": {},
   "outputs": [],
   "source": [
    "import pandas as pd\n",
    "import matplotlib.pyplot as plt\n",
    "import numpy as np\n",
    "import re"
   ]
  },
  {
   "cell_type": "markdown",
   "id": "100e80c6-055a-4e5e-a0cc-ae15f183964e",
   "metadata": {},
   "source": [
    "## Introduction"
   ]
  },
  {
   "cell_type": "markdown",
   "id": "2f6b55e7-dd43-4560-81f4-68971fcac05e",
   "metadata": {},
   "source": [
    "The purpose of this project is to explore the relationship between SAT scores and demographic factors in New York City (NYC) public high schools. The SAT test (i.e., Scholastic Aptitute Test), is a test for high school seniors in the U.S., who take it every year. It consists of three sections, worth `800` points each. This test is used to determine which students to admit to high school. Usually, high average SAT scores are indicative of a good school. Since New York City has a very diverse population, comparing multiple demographics such as race, income, and gender is a good way to check whether the SAT test is fair or not.\n",
    "\n",
    "We'll perform our analysis by combining multiple datasets into a single, clean pandas dataframe. We will then start analysing the data by creating correlations. We eventually found out that some demographics are not very strong indicators of high SAT scores (e.g., gender), whereas some other indicators suggest high SAT scores (e.g., safety scores by students and teachers). A more detailed description of the conclusions can be found in the last section of the project."
   ]
  },
  {
   "cell_type": "markdown",
   "id": "79aefaef-0434-4873-8386-51d247e8ad74",
   "metadata": {
    "tags": []
   },
   "source": [
    "## Reading in the Data"
   ]
  },
  {
   "cell_type": "code",
   "execution_count": 2,
   "id": "a064b6bc-c732-4c6b-a8a6-518483cf9007",
   "metadata": {},
   "outputs": [],
   "source": [
    "# Creating a list with all file names \n",
    "data_files = [\"ap_2010.csv\",\n",
    "    \"class_size.csv\",\n",
    "    \"demographics.csv\",\n",
    "    \"graduation.csv\",\n",
    "    \"hs_directory.csv\",\n",
    "    \"sat_results.csv\"\n",
    "]\n",
    "\n",
    "# creating an empty dictionary to store the files in order to be able to refer to them later on \n",
    "data = {} \n",
    "\n",
    "# initiating a for loop to read each file into a pandas dataframe and then store them into the dictionary \n",
    "for f in data_files:\n",
    "    d = pd.read_csv(\"~/Desktop/my_projects/data/{0}\".format(f)) # Retrieving files with their path\n",
    "    data[f.replace(\".csv\", \"\")] = d # Using base of filenames as key "
   ]
  },
  {
   "cell_type": "markdown",
   "id": "af14d07e-f1c2-4cae-9a23-6efc88f653e2",
   "metadata": {},
   "source": [
    "## Exploring the SAT Data"
   ]
  },
  {
   "cell_type": "markdown",
   "id": "1aac5795-df94-498c-94be-52475237828d",
   "metadata": {},
   "source": [
    "The dataset we are more interested in is the SAT dataset as it contains the SAT scores for each high school in NYC. We will then correlate SAT information with information from other datasets."
   ]
  },
  {
   "cell_type": "code",
   "execution_count": 3,
   "id": "7749bd7d-0bfd-4897-a018-5a12122c55b2",
   "metadata": {},
   "outputs": [
    {
     "name": "stdout",
     "output_type": "stream",
     "text": [
      "      DBN                                    SCHOOL NAME  \\\n",
      "0  01M292  HENRY STREET SCHOOL FOR INTERNATIONAL STUDIES   \n",
      "1  01M448            UNIVERSITY NEIGHBORHOOD HIGH SCHOOL   \n",
      "2  01M450                     EAST SIDE COMMUNITY SCHOOL   \n",
      "3  01M458                      FORSYTH SATELLITE ACADEMY   \n",
      "4  01M509                        MARTA VALLE HIGH SCHOOL   \n",
      "\n",
      "  Num of SAT Test Takers SAT Critical Reading Avg. Score SAT Math Avg. Score  \\\n",
      "0                     29                             355                 404   \n",
      "1                     91                             383                 423   \n",
      "2                     70                             377                 402   \n",
      "3                      7                             414                 401   \n",
      "4                     44                             390                 433   \n",
      "\n",
      "  SAT Writing Avg. Score  \n",
      "0                    363  \n",
      "1                    366  \n",
      "2                    370  \n",
      "3                    359  \n",
      "4                    384  \n"
     ]
    }
   ],
   "source": [
    "# Explorig SAT results from the dataset data\n",
    "print(data[\"sat_results\"].head())"
   ]
  },
  {
   "cell_type": "markdown",
   "id": "a7dc0626-1e42-4d6a-86f3-1a33303f1b4a",
   "metadata": {},
   "source": [
    "Based on this output, we can make a couple of observations: \n",
    "    \n",
    "- The `DBN` is a unique ID for each school.\n",
    "- We can see from the first few rows of names that we only have data about high schools.\n",
    "- We only have a single row for each high school, so each `DBN` is unique in the SAT data.\n",
    "- We will want to combine the three columns with SAT scores -- `SAT Critical Reading Avg. Score, SAT Math Avg. Score, and SAT Writing Avg. Score` -- into a single column to make the data easier to analyse.\n",
    "\n",
    "Now, let's explore the data in a different dataset to see how we can combine them."
   ]
  },
  {
   "cell_type": "markdown",
   "id": "c423e840-f26a-4e79-9ade-0432723acd94",
   "metadata": {
    "tags": []
   },
   "source": [
    "## Exploring the Remaining Data"
   ]
  },
  {
   "cell_type": "code",
   "execution_count": 4,
   "id": "64ba5e85-feb0-49ad-b390-11f21385da90",
   "metadata": {},
   "outputs": [
    {
     "name": "stdout",
     "output_type": "stream",
     "text": [
      "      DBN                             SchoolName  AP Test Takers   \\\n",
      "0  01M448           UNIVERSITY NEIGHBORHOOD H.S.             39.0   \n",
      "1  01M450                 EAST SIDE COMMUNITY HS             19.0   \n",
      "2  01M515                    LOWER EASTSIDE PREP             24.0   \n",
      "3  01M539         NEW EXPLORATIONS SCI,TECH,MATH            255.0   \n",
      "4  02M296  High School of Hospitality Management              NaN   \n",
      "\n",
      "   Total Exams Taken  Number of Exams with scores 3 4 or 5  \n",
      "0               49.0                                  10.0  \n",
      "1               21.0                                   NaN  \n",
      "2               26.0                                  24.0  \n",
      "3              377.0                                 191.0  \n",
      "4                NaN                                   NaN  \n",
      "   CSD BOROUGH SCHOOL CODE                SCHOOL NAME GRADE  PROGRAM TYPE  \\\n",
      "0    1       M        M015  P.S. 015 Roberto Clemente     0K       GEN ED   \n",
      "1    1       M        M015  P.S. 015 Roberto Clemente     0K          CTT   \n",
      "2    1       M        M015  P.S. 015 Roberto Clemente     01       GEN ED   \n",
      "3    1       M        M015  P.S. 015 Roberto Clemente     01          CTT   \n",
      "4    1       M        M015  P.S. 015 Roberto Clemente     02       GEN ED   \n",
      "\n",
      "  CORE SUBJECT (MS CORE and 9-12 ONLY) CORE COURSE (MS CORE and 9-12 ONLY)  \\\n",
      "0                                    -                                   -   \n",
      "1                                    -                                   -   \n",
      "2                                    -                                   -   \n",
      "3                                    -                                   -   \n",
      "4                                    -                                   -   \n",
      "\n",
      "  SERVICE CATEGORY(K-9* ONLY)  NUMBER OF STUDENTS / SEATS FILLED  \\\n",
      "0                           -                               19.0   \n",
      "1                           -                               21.0   \n",
      "2                           -                               17.0   \n",
      "3                           -                               17.0   \n",
      "4                           -                               15.0   \n",
      "\n",
      "   NUMBER OF SECTIONS  AVERAGE CLASS SIZE  SIZE OF SMALLEST CLASS  \\\n",
      "0                 1.0                19.0                    19.0   \n",
      "1                 1.0                21.0                    21.0   \n",
      "2                 1.0                17.0                    17.0   \n",
      "3                 1.0                17.0                    17.0   \n",
      "4                 1.0                15.0                    15.0   \n",
      "\n",
      "   SIZE OF LARGEST CLASS DATA SOURCE  SCHOOLWIDE PUPIL-TEACHER RATIO  \n",
      "0                   19.0         ATS                             NaN  \n",
      "1                   21.0         ATS                             NaN  \n",
      "2                   17.0         ATS                             NaN  \n",
      "3                   17.0         ATS                             NaN  \n",
      "4                   15.0         ATS                             NaN  \n",
      "      DBN                       Name  schoolyear fl_percent  frl_percent  \\\n",
      "0  01M015  P.S. 015 ROBERTO CLEMENTE    20052006       89.4          NaN   \n",
      "1  01M015  P.S. 015 ROBERTO CLEMENTE    20062007       89.4          NaN   \n",
      "2  01M015  P.S. 015 ROBERTO CLEMENTE    20072008       89.4          NaN   \n",
      "3  01M015  P.S. 015 ROBERTO CLEMENTE    20082009       89.4          NaN   \n",
      "4  01M015  P.S. 015 ROBERTO CLEMENTE    20092010                    96.5   \n",
      "\n",
      "   total_enrollment prek   k grade1 grade2  ... black_num black_per  \\\n",
      "0               281   15  36     40     33  ...        74      26.3   \n",
      "1               243   15  29     39     38  ...        68      28.0   \n",
      "2               261   18  43     39     36  ...        77      29.5   \n",
      "3               252   17  37     44     32  ...        75      29.8   \n",
      "4               208   16  40     28     32  ...        67      32.2   \n",
      "\n",
      "  hispanic_num hispanic_per white_num white_per male_num male_per female_num  \\\n",
      "0          189         67.3         5       1.8    158.0     56.2      123.0   \n",
      "1          153         63.0         4       1.6    140.0     57.6      103.0   \n",
      "2          157         60.2         7       2.7    143.0     54.8      118.0   \n",
      "3          149         59.1         7       2.8    149.0     59.1      103.0   \n",
      "4          118         56.7         6       2.9    124.0     59.6       84.0   \n",
      "\n",
      "  female_per  \n",
      "0       43.8  \n",
      "1       42.4  \n",
      "2       45.2  \n",
      "3       40.9  \n",
      "4       40.4  \n",
      "\n",
      "[5 rows x 38 columns]\n",
      "    Demographic     DBN                            School Name    Cohort  \\\n",
      "0  Total Cohort  01M292  HENRY STREET SCHOOL FOR INTERNATIONAL      2003   \n",
      "1  Total Cohort  01M292  HENRY STREET SCHOOL FOR INTERNATIONAL      2004   \n",
      "2  Total Cohort  01M292  HENRY STREET SCHOOL FOR INTERNATIONAL      2005   \n",
      "3  Total Cohort  01M292  HENRY STREET SCHOOL FOR INTERNATIONAL      2006   \n",
      "4  Total Cohort  01M292  HENRY STREET SCHOOL FOR INTERNATIONAL  2006 Aug   \n",
      "\n",
      "   Total Cohort Total Grads - n  Total Grads - % of cohort Total Regents - n  \\\n",
      "0             5               s                        NaN                 s   \n",
      "1            55              37                       67.3                17   \n",
      "2            64              43                       67.2                27   \n",
      "3            78              43                       55.1                36   \n",
      "4            78              44                       56.4                37   \n",
      "\n",
      "   Total Regents - % of cohort  Total Regents - % of grads  ...  \\\n",
      "0                          NaN                         NaN  ...   \n",
      "1                         30.9                        45.9  ...   \n",
      "2                         42.2                        62.8  ...   \n",
      "3                         46.2                        83.7  ...   \n",
      "4                         47.4                        84.1  ...   \n",
      "\n",
      "  Regents w/o Advanced - n  Regents w/o Advanced - % of cohort  \\\n",
      "0                        s                                 NaN   \n",
      "1                       17                                30.9   \n",
      "2                       27                                42.2   \n",
      "3                       36                                46.2   \n",
      "4                       37                                47.4   \n",
      "\n",
      "   Regents w/o Advanced - % of grads Local - n  Local - % of cohort  \\\n",
      "0                                NaN         s                  NaN   \n",
      "1                               45.9        20                 36.4   \n",
      "2                               62.8        16                 25.0   \n",
      "3                               83.7         7                  9.0   \n",
      "4                               84.1         7                  9.0   \n",
      "\n",
      "   Local - % of grads Still Enrolled - n  Still Enrolled - % of cohort  \\\n",
      "0                 NaN                  s                           NaN   \n",
      "1                54.1                 15                          27.3   \n",
      "2                37.2                  9                          14.1   \n",
      "3                16.3                 16                          20.5   \n",
      "4                15.9                 15                          19.2   \n",
      "\n",
      "   Dropped Out - n Dropped Out - % of cohort  \n",
      "0                s                       NaN  \n",
      "1                3                       5.5  \n",
      "2                9                      14.1  \n",
      "3               11                      14.1  \n",
      "4               11                      14.1  \n",
      "\n",
      "[5 rows x 23 columns]\n",
      "      dbn                                        school_name       boro  \\\n",
      "0  17K548                Brooklyn School for Music & Theatre   Brooklyn   \n",
      "1  09X543                   High School for Violin and Dance      Bronx   \n",
      "2  09X327        Comprehensive Model School Project M.S. 327      Bronx   \n",
      "3  02M280     Manhattan Early College School for Advertising  Manhattan   \n",
      "4  28Q680  Queens Gateway to Health Sciences Secondary Sc...     Queens   \n",
      "\n",
      "  building_code    phone_number    fax_number grade_span_min  grade_span_max  \\\n",
      "0          K440    718-230-6250  718-230-6262              9              12   \n",
      "1          X400    718-842-0687  718-589-9849              9              12   \n",
      "2          X240    718-294-8111  718-294-8109              6              12   \n",
      "3          M520  718-935-3477             NaN              9              10   \n",
      "4          Q695    718-969-3155  718-969-3552              6              12   \n",
      "\n",
      "  expgrade_span_min  expgrade_span_max  ...  \\\n",
      "0               NaN                NaN  ...   \n",
      "1               NaN                NaN  ...   \n",
      "2               NaN                NaN  ...   \n",
      "3                 9               14.0  ...   \n",
      "4               NaN                NaN  ...   \n",
      "\n",
      "                                          priority02  \\\n",
      "0                    Then to New York City residents   \n",
      "1  Then to New York City residents who attend an ...   \n",
      "2  Then to Bronx students or residents who attend...   \n",
      "3  Then to New York City residents who attend an ...   \n",
      "4  Then to Districts 28 and 29 students or residents   \n",
      "\n",
      "                                          priority03  \\\n",
      "0                                                NaN   \n",
      "1                Then to Bronx students or residents   \n",
      "2  Then to New York City residents who attend an ...   \n",
      "3          Then to Manhattan students or residents     \n",
      "4               Then to Queens students or residents   \n",
      "\n",
      "                            priority04                       priority05  \\\n",
      "0                                  NaN                              NaN   \n",
      "1      Then to New York City residents                              NaN   \n",
      "2  Then to Bronx students or residents  Then to New York City residents   \n",
      "3      Then to New York City residents                              NaN   \n",
      "4      Then to New York City residents                              NaN   \n",
      "\n",
      "  priority06  priority07 priority08  priority09 priority10  \\\n",
      "0        NaN         NaN        NaN         NaN        NaN   \n",
      "1        NaN         NaN        NaN         NaN        NaN   \n",
      "2        NaN         NaN        NaN         NaN        NaN   \n",
      "3        NaN         NaN        NaN         NaN        NaN   \n",
      "4        NaN         NaN        NaN         NaN        NaN   \n",
      "\n",
      "                                          Location 1  \n",
      "0  883 Classon Avenue\\nBrooklyn, NY 11225\\n(40.67...  \n",
      "1  1110 Boston Road\\nBronx, NY 10456\\n(40.8276026...  \n",
      "2  1501 Jerome Avenue\\nBronx, NY 10452\\n(40.84241...  \n",
      "3  411 Pearl Street\\nNew York, NY 10038\\n(40.7106...  \n",
      "4  160-20 Goethals Avenue\\nJamaica, NY 11432\\n(40...  \n",
      "\n",
      "[5 rows x 58 columns]\n",
      "      DBN                                    SCHOOL NAME  \\\n",
      "0  01M292  HENRY STREET SCHOOL FOR INTERNATIONAL STUDIES   \n",
      "1  01M448            UNIVERSITY NEIGHBORHOOD HIGH SCHOOL   \n",
      "2  01M450                     EAST SIDE COMMUNITY SCHOOL   \n",
      "3  01M458                      FORSYTH SATELLITE ACADEMY   \n",
      "4  01M509                        MARTA VALLE HIGH SCHOOL   \n",
      "\n",
      "  Num of SAT Test Takers SAT Critical Reading Avg. Score SAT Math Avg. Score  \\\n",
      "0                     29                             355                 404   \n",
      "1                     91                             383                 423   \n",
      "2                     70                             377                 402   \n",
      "3                      7                             414                 401   \n",
      "4                     44                             390                 433   \n",
      "\n",
      "  SAT Writing Avg. Score  \n",
      "0                    363  \n",
      "1                    366  \n",
      "2                    370  \n",
      "3                    359  \n",
      "4                    384  \n"
     ]
    }
   ],
   "source": [
    "for k in data: # Looping through each key in `data`\n",
    "    print(data[k].head(5))"
   ]
  },
  {
   "cell_type": "markdown",
   "id": "18c256c9-86f9-47bf-b8c9-80ae7a7efccc",
   "metadata": {},
   "source": [
    "Based on the first few rows of each dataset, we can make some observations:\n",
    "- Each dataset has either a `DBN` column or the information we need to create one. This means that we can use the `DBN` column to combine the datasets. We will pinpoint matching rows from different datasets. We will do this by looking for identical `DBN`s. Then, we will group all f their columns together in a single dataset.\n",
    "- `Location 1` looks like an interesting field for mapping. This field contains coordinates inside a larger string.\n",
    "- Some datasets have many rows for each school (since the rows have duplicate `DBN` values). So we will have to do some preprocessing to make sure that each `DBN` is unique within each dataset. If we don't, we will run into problems when we combine the datasets. This will happen because we could be merging two rows in one data set with one row in another dataset."
   ]
  },
  {
   "cell_type": "markdown",
   "id": "eb08583b-74da-4d28-8002-c7ed76b0ce90",
   "metadata": {},
   "source": [
    "## Reading in the Survey Data"
   ]
  },
  {
   "cell_type": "code",
   "execution_count": 5,
   "id": "aeb8966b-f446-4cfe-9121-a7e47a44c3c3",
   "metadata": {},
   "outputs": [
    {
     "name": "stdout",
     "output_type": "stream",
     "text": [
      "      dbn    bn                      schoolname  d75 studentssurveyed  \\\n",
      "0  01M015  M015       P.S. 015 Roberto Clemente    0               No   \n",
      "1  01M019  M019             P.S. 019 Asher Levy    0               No   \n",
      "2  01M020  M020            P.S. 020 Anna Silver    0               No   \n",
      "3  01M034  M034  P.S. 034 Franklin D. Roosevelt    0              Yes   \n",
      "4  01M063  M063       P.S. 063 William McKinley    0               No   \n",
      "\n",
      "   highschool                  schooltype  rr_s  rr_t  rr_p  ...  s_q14_2  \\\n",
      "0         0.0           Elementary School   NaN    88    60  ...      NaN   \n",
      "1         0.0           Elementary School   NaN   100    60  ...      NaN   \n",
      "2         0.0           Elementary School   NaN    88    73  ...      NaN   \n",
      "3         0.0  Elementary / Middle School  89.0    73    50  ...      NaN   \n",
      "4         0.0           Elementary School   NaN   100    60  ...      NaN   \n",
      "\n",
      "   s_q14_3  s_q14_4  s_q14_5  s_q14_6  s_q14_7  s_q14_8  s_q14_9  s_q14_10  \\\n",
      "0      NaN      NaN      NaN      NaN      NaN      NaN      NaN       NaN   \n",
      "1      NaN      NaN      NaN      NaN      NaN      NaN      NaN       NaN   \n",
      "2      NaN      NaN      NaN      NaN      NaN      NaN      NaN       NaN   \n",
      "3      NaN      NaN      NaN      NaN      NaN      NaN      NaN       NaN   \n",
      "4      NaN      NaN      NaN      NaN      NaN      NaN      NaN       NaN   \n",
      "\n",
      "   s_q14_11  \n",
      "0       NaN  \n",
      "1       NaN  \n",
      "2       NaN  \n",
      "3       NaN  \n",
      "4       NaN  \n",
      "\n",
      "[5 rows x 2773 columns]\n"
     ]
    }
   ],
   "source": [
    "# Reading in files with more complicated format\n",
    "all_survey = pd.read_csv(\"~/Desktop/my_projects/data/survey_all.txt\", delimiter=\"\\t\", encoding='windows-1252') # specifying rare encoding to prevent errors \n",
    "d75_survey = pd.read_csv(\"~/Desktop/my_projects/data/survey_d75.txt\", delimiter=\"\\t\", encoding='windows-1252')\n",
    "\n",
    "# Combining the two files into a single dataframe\n",
    "survey = pd.concat([all_survey, d75_survey], axis=0) \n",
    "survey = survey.copy()\n",
    "print(survey.head())"
   ]
  },
  {
   "cell_type": "markdown",
   "id": "bd2de58b-335b-4b6d-bf86-c7c12d23c5ea",
   "metadata": {},
   "source": [
    "Here's what we can immediately see from the data:\n",
    "    \n",
    "- There are over `2000` columns, all which we won't need. We will have to filter the data to remove the unnecessary ones so that we can print the dataframe and find correlations within it more easily.\n",
    "- The survey data has a `dbn` column that we need to convert to uppercase (i.e., `DBN`) to make the column name consistent with the other datasets."
   ]
  },
  {
   "cell_type": "markdown",
   "id": "1ca94cf3-0345-43ad-9afb-cd230856a24b",
   "metadata": {
    "tags": []
   },
   "source": [
    "## Cleaning Up the Surveys"
   ]
  },
  {
   "cell_type": "markdown",
   "id": "d4fc1212-9806-4883-8827-7fd7801c10c4",
   "metadata": {},
   "source": [
    "We will use the [data dictionary](https://data.cityofnewyork.us/Education/2011-NYC-School-Survey/mnz3-dyi8) to assess which columns to remove and which ones to keep."
   ]
  },
  {
   "cell_type": "code",
   "execution_count": 6,
   "id": "cc623947-be2f-49c5-b8a4-9a2340a6e2f6",
   "metadata": {},
   "outputs": [
    {
     "name": "stdout",
     "output_type": "stream",
     "text": [
      "      DBN  rr_s  rr_t  rr_p    N_s   N_t    N_p  saf_p_11  com_p_11  eng_p_11  \\\n",
      "0  01M015   NaN    88    60    NaN  22.0   90.0       8.5       7.6       7.5   \n",
      "1  01M019   NaN   100    60    NaN  34.0  161.0       8.4       7.6       7.6   \n",
      "2  01M020   NaN    88    73    NaN  42.0  367.0       8.9       8.3       8.3   \n",
      "3  01M034  89.0    73    50  145.0  29.0  151.0       8.8       8.2       8.0   \n",
      "4  01M063   NaN   100    60    NaN  23.0   90.0       8.7       7.9       8.1   \n",
      "\n",
      "   ...  eng_t_11  aca_t_11  saf_s_11  com_s_11  eng_s_11  aca_s_11  \\\n",
      "0  ...       7.6       7.9       NaN       NaN       NaN       NaN   \n",
      "1  ...       8.9       9.1       NaN       NaN       NaN       NaN   \n",
      "2  ...       6.8       7.5       NaN       NaN       NaN       NaN   \n",
      "3  ...       6.8       7.8       6.2       5.9       6.5       7.4   \n",
      "4  ...       7.8       8.1       NaN       NaN       NaN       NaN   \n",
      "\n",
      "   saf_tot_11  com_tot_11  eng_tot_11  aca_tot_11  \n",
      "0         8.0         7.7         7.5         7.9  \n",
      "1         8.5         8.1         8.2         8.4  \n",
      "2         8.2         7.3         7.5         8.0  \n",
      "3         7.3         6.7         7.1         7.9  \n",
      "4         8.5         7.6         7.9         8.0  \n",
      "\n",
      "[5 rows x 23 columns]\n"
     ]
    }
   ],
   "source": [
    "# Converting column name to uppercase to keep consistency with other datasets\n",
    "survey[\"DBN\"] = survey[\"dbn\"]\n",
    "\n",
    "# Creating a list of the columns of survey_fields that are relevant to our analysis\n",
    "survey_fields = [\n",
    "    \"DBN\", \n",
    "    \"rr_s\", \n",
    "    \"rr_t\", \n",
    "    \"rr_p\", \n",
    "    \"N_s\", \n",
    "    \"N_t\", \n",
    "    \"N_p\", \n",
    "    \"saf_p_11\", \n",
    "    \"com_p_11\", \n",
    "    \"eng_p_11\", \n",
    "    \"aca_p_11\", \n",
    "    \"saf_t_11\", \n",
    "    \"com_t_11\", \n",
    "    \"eng_t_11\", \n",
    "    \"aca_t_11\", \n",
    "    \"saf_s_11\", \n",
    "    \"com_s_11\", \n",
    "    \"eng_s_11\", \n",
    "    \"aca_s_11\", \n",
    "    \"saf_tot_11\", \n",
    "    \"com_tot_11\", \n",
    "    \"eng_tot_11\", \n",
    "    \"aca_tot_11\",\n",
    "]\n",
    "\n",
    "# Filtering survey so it only contains the columns listed above\n",
    "survey = survey.loc[:,survey_fields]\n",
    "\n",
    "# Assigning survey to the key survey in the dictionary data\n",
    "data[\"survey\"] = survey\n",
    "\n",
    "# Exploring the data\n",
    "print(survey.head())"
   ]
  },
  {
   "cell_type": "markdown",
   "id": "a3875cb5-4e6e-48b9-903d-32bc84f1689f",
   "metadata": {},
   "source": [
    "## Inserting DBN Fields "
   ]
  },
  {
   "cell_type": "markdown",
   "id": "38372464-f9ad-4ce9-9d6f-3b2d1a3a72a0",
   "metadata": {},
   "source": [
    "When we explored all of the datasets, we noticed that `class_size` does not have a `DBN` column."
   ]
  },
  {
   "cell_type": "code",
   "execution_count": 7,
   "id": "7483da40-41a5-476d-bac6-421bda8fdd10",
   "metadata": {},
   "outputs": [
    {
     "name": "stdout",
     "output_type": "stream",
     "text": [
      "   CSD BOROUGH SCHOOL CODE                SCHOOL NAME GRADE  PROGRAM TYPE  \\\n",
      "0    1       M        M015  P.S. 015 Roberto Clemente     0K       GEN ED   \n",
      "1    1       M        M015  P.S. 015 Roberto Clemente     0K          CTT   \n",
      "2    1       M        M015  P.S. 015 Roberto Clemente     01       GEN ED   \n",
      "3    1       M        M015  P.S. 015 Roberto Clemente     01          CTT   \n",
      "4    1       M        M015  P.S. 015 Roberto Clemente     02       GEN ED   \n",
      "\n",
      "  CORE SUBJECT (MS CORE and 9-12 ONLY) CORE COURSE (MS CORE and 9-12 ONLY)  \\\n",
      "0                                    -                                   -   \n",
      "1                                    -                                   -   \n",
      "2                                    -                                   -   \n",
      "3                                    -                                   -   \n",
      "4                                    -                                   -   \n",
      "\n",
      "  SERVICE CATEGORY(K-9* ONLY)  NUMBER OF STUDENTS / SEATS FILLED  \\\n",
      "0                           -                               19.0   \n",
      "1                           -                               21.0   \n",
      "2                           -                               17.0   \n",
      "3                           -                               17.0   \n",
      "4                           -                               15.0   \n",
      "\n",
      "   NUMBER OF SECTIONS  AVERAGE CLASS SIZE  SIZE OF SMALLEST CLASS  \\\n",
      "0                 1.0                19.0                    19.0   \n",
      "1                 1.0                21.0                    21.0   \n",
      "2                 1.0                17.0                    17.0   \n",
      "3                 1.0                17.0                    17.0   \n",
      "4                 1.0                15.0                    15.0   \n",
      "\n",
      "   SIZE OF LARGEST CLASS DATA SOURCE  SCHOOLWIDE PUPIL-TEACHER RATIO  \n",
      "0                   19.0         ATS                             NaN  \n",
      "1                   21.0         ATS                             NaN  \n",
      "2                   17.0         ATS                             NaN  \n",
      "3                   17.0         ATS                             NaN  \n",
      "4                   15.0         ATS                             NaN  \n"
     ]
    }
   ],
   "source": [
    "print(data['class_size'].head(5))"
   ]
  },
  {
   "cell_type": "markdown",
   "id": "bc57603b-c2d1-487b-9f5b-f95959af12f7",
   "metadata": {},
   "source": [
    "Here below are the first few columns of `sat_results`, which have a `DBN` column."
   ]
  },
  {
   "cell_type": "code",
   "execution_count": 8,
   "id": "89904044-71f8-4264-93bf-67e630037076",
   "metadata": {},
   "outputs": [
    {
     "name": "stdout",
     "output_type": "stream",
     "text": [
      "      DBN                                    SCHOOL NAME  \\\n",
      "0  01M292  HENRY STREET SCHOOL FOR INTERNATIONAL STUDIES   \n",
      "1  01M448            UNIVERSITY NEIGHBORHOOD HIGH SCHOOL   \n",
      "2  01M450                     EAST SIDE COMMUNITY SCHOOL   \n",
      "3  01M458                      FORSYTH SATELLITE ACADEMY   \n",
      "4  01M509                        MARTA VALLE HIGH SCHOOL   \n",
      "\n",
      "  Num of SAT Test Takers SAT Critical Reading Avg. Score SAT Math Avg. Score  \\\n",
      "0                     29                             355                 404   \n",
      "1                     91                             383                 423   \n",
      "2                     70                             377                 402   \n",
      "3                      7                             414                 401   \n",
      "4                     44                             390                 433   \n",
      "\n",
      "  SAT Writing Avg. Score  \n",
      "0                    363  \n",
      "1                    366  \n",
      "2                    370  \n",
      "3                    359  \n",
      "4                    384  \n"
     ]
    }
   ],
   "source": [
    "# Exploring the data\n",
    "print(data['sat_results'].head(5))"
   ]
  },
  {
   "cell_type": "markdown",
   "id": "7b1a594a-b7e7-4aa7-a036-40940c488d89",
   "metadata": {},
   "source": [
    "However, as shown above, the `DBN` column in the `sat_results` data is just a combination of the `CSD` and `SCHOOL CODE` column in the `class_size` data. The only difference is that the `DBN` is padded, so that `CSD` always consists of two digits. This means that if we add a leading `0` to the `CSD` that have only one digit, we will be able to combine the two columns and generate a `DBN` value for the `class_size` data too. "
   ]
  },
  {
   "cell_type": "code",
   "execution_count": 9,
   "id": "72477faa-d6f6-440f-b8ad-c9fcefb02093",
   "metadata": {},
   "outputs": [
    {
     "name": "stdout",
     "output_type": "stream",
     "text": [
      "   CSD BOROUGH SCHOOL CODE                SCHOOL NAME GRADE  PROGRAM TYPE  \\\n",
      "0    1       M        M015  P.S. 015 Roberto Clemente     0K       GEN ED   \n",
      "1    1       M        M015  P.S. 015 Roberto Clemente     0K          CTT   \n",
      "2    1       M        M015  P.S. 015 Roberto Clemente     01       GEN ED   \n",
      "3    1       M        M015  P.S. 015 Roberto Clemente     01          CTT   \n",
      "4    1       M        M015  P.S. 015 Roberto Clemente     02       GEN ED   \n",
      "\n",
      "  CORE SUBJECT (MS CORE and 9-12 ONLY) CORE COURSE (MS CORE and 9-12 ONLY)  \\\n",
      "0                                    -                                   -   \n",
      "1                                    -                                   -   \n",
      "2                                    -                                   -   \n",
      "3                                    -                                   -   \n",
      "4                                    -                                   -   \n",
      "\n",
      "  SERVICE CATEGORY(K-9* ONLY)  NUMBER OF STUDENTS / SEATS FILLED  \\\n",
      "0                           -                               19.0   \n",
      "1                           -                               21.0   \n",
      "2                           -                               17.0   \n",
      "3                           -                               17.0   \n",
      "4                           -                               15.0   \n",
      "\n",
      "   NUMBER OF SECTIONS  AVERAGE CLASS SIZE  SIZE OF SMALLEST CLASS  \\\n",
      "0                 1.0                19.0                    19.0   \n",
      "1                 1.0                21.0                    21.0   \n",
      "2                 1.0                17.0                    17.0   \n",
      "3                 1.0                17.0                    17.0   \n",
      "4                 1.0                15.0                    15.0   \n",
      "\n",
      "   SIZE OF LARGEST CLASS DATA SOURCE  SCHOOLWIDE PUPIL-TEACHER RATIO  \\\n",
      "0                   19.0         ATS                             NaN   \n",
      "1                   21.0         ATS                             NaN   \n",
      "2                   17.0         ATS                             NaN   \n",
      "3                   17.0         ATS                             NaN   \n",
      "4                   15.0         ATS                             NaN   \n",
      "\n",
      "  padded_csd     DBN  \n",
      "0         01  01M015  \n",
      "1         01  01M015  \n",
      "2         01  01M015  \n",
      "3         01  01M015  \n",
      "4         01  01M015  \n"
     ]
    }
   ],
   "source": [
    "# Creating a function to pad columns\n",
    "def pad_csd(num): # Creating custom function that takes in a number \n",
    "    return str(num).zfill(2) # Converting the number to a string and checking the length of the string; if the string is two digits long, it returns the string. If the string is one digit long, it adds a `0` to the front of the string and then returns it\n",
    "\n",
    "# Applying the function\n",
    "data['class_size']['padded_csd'] = data['class_size']['CSD'].apply(pad_csd) # Creating a new column to add a leading 0 to the csd that have only one digit.\n",
    "\n",
    "# Merging padded_csd and `SCHOOL CODE` - using the addition operator (+)\n",
    "data['class_size']['DBN'] = data['class_size']['padded_csd'] + data['class_size']['SCHOOL CODE']\n",
    "print(data['class_size'].head(5))"
   ]
  },
  {
   "cell_type": "code",
   "execution_count": 10,
   "id": "62255534-7d2c-4440-be10-31509531358f",
   "metadata": {},
   "outputs": [],
   "source": [
    "# Renaming column into uppercas letters for consistency\n",
    "data[\"hs_directory\"][\"DBN\"] = data[\"hs_directory\"][\"dbn\"]"
   ]
  },
  {
   "cell_type": "markdown",
   "id": "169ac077-1b99-4756-ae84-e19df1903318",
   "metadata": {
    "tags": []
   },
   "source": [
    "## Combining the SAT Scores"
   ]
  },
  {
   "cell_type": "code",
   "execution_count": 11,
   "id": "47bb822e-ac08-4e7a-892e-566433b65e45",
   "metadata": {},
   "outputs": [
    {
     "name": "stdout",
     "output_type": "stream",
     "text": [
      "0    1122.0\n",
      "1    1172.0\n",
      "2    1149.0\n",
      "3    1174.0\n",
      "4    1207.0\n",
      "Name: sat_score, dtype: float64\n"
     ]
    }
   ],
   "source": [
    "# Creating a list with the SAT scores for the different sections of the exam\n",
    "cols = ['SAT Math Avg. Score', 'SAT Critical Reading Avg. Score', 'SAT Writing Avg. Score']\n",
    "\n",
    "# Converting column values from string to numeric to add columns together \n",
    "for c in cols:\n",
    "    data['sat_results'][c] = pd.to_numeric(data['sat_results'][c], errors = \"coerce\") # Passing the keyword argument `errors='coerce'` so that pandas treats invalid strings as missing values\n",
    "\n",
    "# Creating a column in sat_score that holds the combined SAT score for each student - this will make it easier to correlate scores with demographic factors \n",
    "data['sat_results']['sat_score'] = data['sat_results'][cols[0]] + data['sat_results'][cols[1]] + data['sat_results'][cols[2]]\n",
    "\n",
    "# Displaying the first few rows to verify that everything went okay\n",
    "print(data['sat_results']['sat_score'].head())"
   ]
  },
  {
   "cell_type": "markdown",
   "id": "ad7ea5c7-68f6-4e66-ad3a-a6ee1f0f879e",
   "metadata": {},
   "source": [
    "## Parsing Geographic Coordinates for Schools"
   ]
  },
  {
   "cell_type": "code",
   "execution_count": 12,
   "id": "b4693a4c-19a6-4341-ae1b-6bc9b4a88e68",
   "metadata": {},
   "outputs": [
    {
     "name": "stdout",
     "output_type": "stream",
     "text": [
      "0    883 Classon Avenue\\nBrooklyn, NY 11225\\n(40.67...\n",
      "1    1110 Boston Road\\nBronx, NY 10456\\n(40.8276026...\n",
      "2    1501 Jerome Avenue\\nBronx, NY 10452\\n(40.84241...\n",
      "3    411 Pearl Street\\nNew York, NY 10038\\n(40.7106...\n",
      "4    160-20 Goethals Avenue\\nJamaica, NY 11432\\n(40...\n",
      "Name: Location 1, dtype: object\n"
     ]
    }
   ],
   "source": [
    "# Parsing latitude and longitude coordinates for each school to map geographic patterns \n",
    "print(data['hs_directory']['Location 1'].head())"
   ]
  },
  {
   "cell_type": "markdown",
   "id": "7cecce3f-b16a-4867-ade5-bce6e631d4d2",
   "metadata": {},
   "source": [
    "### Exctracting the Latitude"
   ]
  },
  {
   "cell_type": "code",
   "execution_count": 13,
   "id": "69ef703d-3347-432e-b8c9-7c23d909ce0c",
   "metadata": {},
   "outputs": [
    {
     "name": "stdout",
     "output_type": "stream",
     "text": [
      "      dbn                                        school_name       boro  \\\n",
      "0  17K548                Brooklyn School for Music & Theatre   Brooklyn   \n",
      "1  09X543                   High School for Violin and Dance      Bronx   \n",
      "2  09X327        Comprehensive Model School Project M.S. 327      Bronx   \n",
      "3  02M280     Manhattan Early College School for Advertising  Manhattan   \n",
      "4  28Q680  Queens Gateway to Health Sciences Secondary Sc...     Queens   \n",
      "\n",
      "  building_code    phone_number    fax_number grade_span_min  grade_span_max  \\\n",
      "0          K440    718-230-6250  718-230-6262              9              12   \n",
      "1          X400    718-842-0687  718-589-9849              9              12   \n",
      "2          X240    718-294-8111  718-294-8109              6              12   \n",
      "3          M520  718-935-3477             NaN              9              10   \n",
      "4          Q695    718-969-3155  718-969-3552              6              12   \n",
      "\n",
      "  expgrade_span_min  expgrade_span_max  ...  \\\n",
      "0               NaN                NaN  ...   \n",
      "1               NaN                NaN  ...   \n",
      "2               NaN                NaN  ...   \n",
      "3                 9               14.0  ...   \n",
      "4               NaN                NaN  ...   \n",
      "\n",
      "                            priority04                       priority05  \\\n",
      "0                                  NaN                              NaN   \n",
      "1      Then to New York City residents                              NaN   \n",
      "2  Then to Bronx students or residents  Then to New York City residents   \n",
      "3      Then to New York City residents                              NaN   \n",
      "4      Then to New York City residents                              NaN   \n",
      "\n",
      "  priority06 priority07 priority08  priority09 priority10  \\\n",
      "0        NaN        NaN        NaN         NaN        NaN   \n",
      "1        NaN        NaN        NaN         NaN        NaN   \n",
      "2        NaN        NaN        NaN         NaN        NaN   \n",
      "3        NaN        NaN        NaN         NaN        NaN   \n",
      "4        NaN        NaN        NaN         NaN        NaN   \n",
      "\n",
      "                                          Location 1     DBN  \\\n",
      "0  883 Classon Avenue\\nBrooklyn, NY 11225\\n(40.67...  17K548   \n",
      "1  1110 Boston Road\\nBronx, NY 10456\\n(40.8276026...  09X543   \n",
      "2  1501 Jerome Avenue\\nBronx, NY 10452\\n(40.84241...  09X327   \n",
      "3  411 Pearl Street\\nNew York, NY 10038\\n(40.7106...  02M280   \n",
      "4  160-20 Goethals Avenue\\nJamaica, NY 11432\\n(40...  28Q680   \n",
      "\n",
      "                  lat  \n",
      "0   40.67029890700047  \n",
      "1    40.8276026690005  \n",
      "2  40.842414068000494  \n",
      "3   40.71067947100045  \n",
      "4  40.718810094000446  \n",
      "\n",
      "[5 rows x 60 columns]\n"
     ]
    }
   ],
   "source": [
    "# Creating a function to extract the latitude from fields which contain lots of unnecessary information\n",
    "def find_lat(loc): \n",
    "    coords = re.findall(\"\\(.+\\)\", loc) # Using a regex to extract the latitude\n",
    "    lat = coords[0].split(\",\")[0].replace(\"(\", \"\") # Using string manipulation functions to pull out latitude\n",
    "    return lat \n",
    "\n",
    "# Applying the function using the apply() method \n",
    "data['hs_directory']['lat'] = data['hs_directory']['Location 1'].apply(find_lat)\n",
    "\n",
    "# Displaying the first few rows to verify results \n",
    "print(data['hs_directory'].head())"
   ]
  },
  {
   "cell_type": "markdown",
   "id": "42219c2f-5c8d-44d6-b8f1-22b81f7e055c",
   "metadata": {},
   "source": [
    "### Extracting the Longitude"
   ]
  },
  {
   "cell_type": "markdown",
   "id": "f2eb4a92-2e82-4ff5-a1d4-4230ef0dec18",
   "metadata": {},
   "source": [
    "Now we will do the same for the longitude."
   ]
  },
  {
   "cell_type": "code",
   "execution_count": 14,
   "id": "3b9aafa0-3cc2-4110-b553-e5ab520b776b",
   "metadata": {},
   "outputs": [
    {
     "name": "stdout",
     "output_type": "stream",
     "text": [
      "      dbn                                        school_name       boro  \\\n",
      "0  17K548                Brooklyn School for Music & Theatre   Brooklyn   \n",
      "1  09X543                   High School for Violin and Dance      Bronx   \n",
      "2  09X327        Comprehensive Model School Project M.S. 327      Bronx   \n",
      "3  02M280     Manhattan Early College School for Advertising  Manhattan   \n",
      "4  28Q680  Queens Gateway to Health Sciences Secondary Sc...     Queens   \n",
      "\n",
      "  building_code    phone_number    fax_number grade_span_min  grade_span_max  \\\n",
      "0          K440    718-230-6250  718-230-6262              9              12   \n",
      "1          X400    718-842-0687  718-589-9849              9              12   \n",
      "2          X240    718-294-8111  718-294-8109              6              12   \n",
      "3          M520  718-935-3477             NaN              9              10   \n",
      "4          Q695    718-969-3155  718-969-3552              6              12   \n",
      "\n",
      "  expgrade_span_min  expgrade_span_max  ...                       priority05  \\\n",
      "0               NaN                NaN  ...                              NaN   \n",
      "1               NaN                NaN  ...                              NaN   \n",
      "2               NaN                NaN  ...  Then to New York City residents   \n",
      "3                 9               14.0  ...                              NaN   \n",
      "4               NaN                NaN  ...                              NaN   \n",
      "\n",
      "  priority06 priority07 priority08 priority09  priority10  \\\n",
      "0        NaN        NaN        NaN        NaN         NaN   \n",
      "1        NaN        NaN        NaN        NaN         NaN   \n",
      "2        NaN        NaN        NaN        NaN         NaN   \n",
      "3        NaN        NaN        NaN        NaN         NaN   \n",
      "4        NaN        NaN        NaN        NaN         NaN   \n",
      "\n",
      "                                          Location 1     DBN        lat  \\\n",
      "0  883 Classon Avenue\\nBrooklyn, NY 11225\\n(40.67...  17K548  40.670299   \n",
      "1  1110 Boston Road\\nBronx, NY 10456\\n(40.8276026...  09X543  40.827603   \n",
      "2  1501 Jerome Avenue\\nBronx, NY 10452\\n(40.84241...  09X327  40.842414   \n",
      "3  411 Pearl Street\\nNew York, NY 10038\\n(40.7106...  02M280  40.710679   \n",
      "4  160-20 Goethals Avenue\\nJamaica, NY 11432\\n(40...  28Q680  40.718810   \n",
      "\n",
      "         lon  \n",
      "0 -73.961648  \n",
      "1 -73.904475  \n",
      "2 -73.916162  \n",
      "3 -74.000807  \n",
      "4 -73.806500  \n",
      "\n",
      "[5 rows x 61 columns]\n"
     ]
    }
   ],
   "source": [
    "# Creating a function to extract the longitude from fields which contain lots of unnecessary information\n",
    "def find_lon(loc):\n",
    "    coords = re.findall(\"\\(.+\\)\", loc) # Using a regex to extract the longitude\n",
    "    lon = coords[0].split(\",\")[1].replace(\")\", \"\").strip() # Using string manipulation functions to pull out longitude\n",
    "    return lon\n",
    "\n",
    "# Applying the function using the apply() method \n",
    "data['hs_directory']['lon'] = data['hs_directory']['Location 1'].apply(find_lon)\n",
    "\n",
    "# Converting `lat` and `lon` columns to numbers\n",
    "data['hs_directory']['lat'] = pd.to_numeric(data['hs_directory']['lat'], errors=\"coerce\")\n",
    "data['hs_directory']['lon'] = pd.to_numeric(data['hs_directory']['lon'], errors=\"coerce\")\n",
    "\n",
    "# Exploring the data\n",
    "print(data['hs_directory'].head())"
   ]
  },
  {
   "cell_type": "markdown",
   "id": "48823865-52ac-46bc-a264-dc45de001cf1",
   "metadata": {},
   "source": [
    "## Combining the Data "
   ]
  },
  {
   "cell_type": "markdown",
   "id": "545b7c3e-59de-4dca-a502-30a8b1b30fce",
   "metadata": {},
   "source": [
    "So far, we found that we can combine the datasets using the `DBN` column. However, before combining them, we need to condense some of the datasets in preparation for the merge. For instance, `class_size` has duplicate `DBN` values, which can cause issues if we don't condense them before the merge. A single row in `sat_results` could match many rows in `class_size`, and we don't know which one we should combine with the single matching entries. Let's condense `class_size`, `graduation`, and `demographics` so that each `DBN` in each dataset will be unique. "
   ]
  },
  {
   "cell_type": "code",
   "execution_count": 15,
   "id": "d2e474af-b6b5-47a5-99bd-5eb7de853c6b",
   "metadata": {},
   "outputs": [
    {
     "data": {
      "text/html": [
       "<div>\n",
       "<style scoped>\n",
       "    .dataframe tbody tr th:only-of-type {\n",
       "        vertical-align: middle;\n",
       "    }\n",
       "\n",
       "    .dataframe tbody tr th {\n",
       "        vertical-align: top;\n",
       "    }\n",
       "\n",
       "    .dataframe thead th {\n",
       "        text-align: right;\n",
       "    }\n",
       "</style>\n",
       "<table border=\"1\" class=\"dataframe\">\n",
       "  <thead>\n",
       "    <tr style=\"text-align: right;\">\n",
       "      <th></th>\n",
       "      <th>CSD</th>\n",
       "      <th>BOROUGH</th>\n",
       "      <th>SCHOOL CODE</th>\n",
       "      <th>SCHOOL NAME</th>\n",
       "      <th>GRADE</th>\n",
       "      <th>PROGRAM TYPE</th>\n",
       "      <th>CORE SUBJECT (MS CORE and 9-12 ONLY)</th>\n",
       "      <th>CORE COURSE (MS CORE and 9-12 ONLY)</th>\n",
       "      <th>SERVICE CATEGORY(K-9* ONLY)</th>\n",
       "      <th>NUMBER OF STUDENTS / SEATS FILLED</th>\n",
       "      <th>NUMBER OF SECTIONS</th>\n",
       "      <th>AVERAGE CLASS SIZE</th>\n",
       "      <th>SIZE OF SMALLEST CLASS</th>\n",
       "      <th>SIZE OF LARGEST CLASS</th>\n",
       "      <th>DATA SOURCE</th>\n",
       "      <th>SCHOOLWIDE PUPIL-TEACHER RATIO</th>\n",
       "      <th>padded_csd</th>\n",
       "      <th>DBN</th>\n",
       "    </tr>\n",
       "  </thead>\n",
       "  <tbody>\n",
       "    <tr>\n",
       "      <th>0</th>\n",
       "      <td>1</td>\n",
       "      <td>M</td>\n",
       "      <td>M015</td>\n",
       "      <td>P.S. 015 Roberto Clemente</td>\n",
       "      <td>0K</td>\n",
       "      <td>GEN ED</td>\n",
       "      <td>-</td>\n",
       "      <td>-</td>\n",
       "      <td>-</td>\n",
       "      <td>19.0</td>\n",
       "      <td>1.0</td>\n",
       "      <td>19.0</td>\n",
       "      <td>19.0</td>\n",
       "      <td>19.0</td>\n",
       "      <td>ATS</td>\n",
       "      <td>NaN</td>\n",
       "      <td>01</td>\n",
       "      <td>01M015</td>\n",
       "    </tr>\n",
       "    <tr>\n",
       "      <th>1</th>\n",
       "      <td>1</td>\n",
       "      <td>M</td>\n",
       "      <td>M015</td>\n",
       "      <td>P.S. 015 Roberto Clemente</td>\n",
       "      <td>0K</td>\n",
       "      <td>CTT</td>\n",
       "      <td>-</td>\n",
       "      <td>-</td>\n",
       "      <td>-</td>\n",
       "      <td>21.0</td>\n",
       "      <td>1.0</td>\n",
       "      <td>21.0</td>\n",
       "      <td>21.0</td>\n",
       "      <td>21.0</td>\n",
       "      <td>ATS</td>\n",
       "      <td>NaN</td>\n",
       "      <td>01</td>\n",
       "      <td>01M015</td>\n",
       "    </tr>\n",
       "    <tr>\n",
       "      <th>2</th>\n",
       "      <td>1</td>\n",
       "      <td>M</td>\n",
       "      <td>M015</td>\n",
       "      <td>P.S. 015 Roberto Clemente</td>\n",
       "      <td>01</td>\n",
       "      <td>GEN ED</td>\n",
       "      <td>-</td>\n",
       "      <td>-</td>\n",
       "      <td>-</td>\n",
       "      <td>17.0</td>\n",
       "      <td>1.0</td>\n",
       "      <td>17.0</td>\n",
       "      <td>17.0</td>\n",
       "      <td>17.0</td>\n",
       "      <td>ATS</td>\n",
       "      <td>NaN</td>\n",
       "      <td>01</td>\n",
       "      <td>01M015</td>\n",
       "    </tr>\n",
       "    <tr>\n",
       "      <th>3</th>\n",
       "      <td>1</td>\n",
       "      <td>M</td>\n",
       "      <td>M015</td>\n",
       "      <td>P.S. 015 Roberto Clemente</td>\n",
       "      <td>01</td>\n",
       "      <td>CTT</td>\n",
       "      <td>-</td>\n",
       "      <td>-</td>\n",
       "      <td>-</td>\n",
       "      <td>17.0</td>\n",
       "      <td>1.0</td>\n",
       "      <td>17.0</td>\n",
       "      <td>17.0</td>\n",
       "      <td>17.0</td>\n",
       "      <td>ATS</td>\n",
       "      <td>NaN</td>\n",
       "      <td>01</td>\n",
       "      <td>01M015</td>\n",
       "    </tr>\n",
       "    <tr>\n",
       "      <th>4</th>\n",
       "      <td>1</td>\n",
       "      <td>M</td>\n",
       "      <td>M015</td>\n",
       "      <td>P.S. 015 Roberto Clemente</td>\n",
       "      <td>02</td>\n",
       "      <td>GEN ED</td>\n",
       "      <td>-</td>\n",
       "      <td>-</td>\n",
       "      <td>-</td>\n",
       "      <td>15.0</td>\n",
       "      <td>1.0</td>\n",
       "      <td>15.0</td>\n",
       "      <td>15.0</td>\n",
       "      <td>15.0</td>\n",
       "      <td>ATS</td>\n",
       "      <td>NaN</td>\n",
       "      <td>01</td>\n",
       "      <td>01M015</td>\n",
       "    </tr>\n",
       "  </tbody>\n",
       "</table>\n",
       "</div>"
      ],
      "text/plain": [
       "   CSD BOROUGH SCHOOL CODE                SCHOOL NAME GRADE  PROGRAM TYPE  \\\n",
       "0    1       M        M015  P.S. 015 Roberto Clemente     0K       GEN ED   \n",
       "1    1       M        M015  P.S. 015 Roberto Clemente     0K          CTT   \n",
       "2    1       M        M015  P.S. 015 Roberto Clemente     01       GEN ED   \n",
       "3    1       M        M015  P.S. 015 Roberto Clemente     01          CTT   \n",
       "4    1       M        M015  P.S. 015 Roberto Clemente     02       GEN ED   \n",
       "\n",
       "  CORE SUBJECT (MS CORE and 9-12 ONLY) CORE COURSE (MS CORE and 9-12 ONLY)  \\\n",
       "0                                    -                                   -   \n",
       "1                                    -                                   -   \n",
       "2                                    -                                   -   \n",
       "3                                    -                                   -   \n",
       "4                                    -                                   -   \n",
       "\n",
       "  SERVICE CATEGORY(K-9* ONLY)  NUMBER OF STUDENTS / SEATS FILLED  \\\n",
       "0                           -                               19.0   \n",
       "1                           -                               21.0   \n",
       "2                           -                               17.0   \n",
       "3                           -                               17.0   \n",
       "4                           -                               15.0   \n",
       "\n",
       "   NUMBER OF SECTIONS  AVERAGE CLASS SIZE  SIZE OF SMALLEST CLASS  \\\n",
       "0                 1.0                19.0                    19.0   \n",
       "1                 1.0                21.0                    21.0   \n",
       "2                 1.0                17.0                    17.0   \n",
       "3                 1.0                17.0                    17.0   \n",
       "4                 1.0                15.0                    15.0   \n",
       "\n",
       "   SIZE OF LARGEST CLASS DATA SOURCE  SCHOOLWIDE PUPIL-TEACHER RATIO  \\\n",
       "0                   19.0         ATS                             NaN   \n",
       "1                   21.0         ATS                             NaN   \n",
       "2                   17.0         ATS                             NaN   \n",
       "3                   17.0         ATS                             NaN   \n",
       "4                   15.0         ATS                             NaN   \n",
       "\n",
       "  padded_csd     DBN  \n",
       "0         01  01M015  \n",
       "1         01  01M015  \n",
       "2         01  01M015  \n",
       "3         01  01M015  \n",
       "4         01  01M015  "
      ]
     },
     "execution_count": 15,
     "metadata": {},
     "output_type": "execute_result"
    }
   ],
   "source": [
    "# Exploring `class_size` further\n",
    "data['class_size'].head()"
   ]
  },
  {
   "cell_type": "markdown",
   "id": "1169f57c-9f85-4369-af8b-fee4e1992f6f",
   "metadata": {},
   "source": [
    "`DBN` appears more than once because the first few rows all pertain to the same school. Moreover, each school has multiple values for `GRADE`, `PROGRAM TYPE`, `CORE SUBJECT (MS CORE and 9-12 ONLY)`, and `CORE COURSE (MS CORE and 9-12 ONLY)`. "
   ]
  },
  {
   "cell_type": "code",
   "execution_count": 16,
   "id": "c9141484-553a-4034-92c4-f174c254d3a6",
   "metadata": {},
   "outputs": [
    {
     "data": {
      "text/plain": [
       "array(['0K', '01', '02', '03', '04', '05', '0K-09', nan, '06', '07', '08',\n",
       "       'MS Core', '09-12', '09'], dtype=object)"
      ]
     },
     "execution_count": 16,
     "metadata": {},
     "output_type": "execute_result"
    }
   ],
   "source": [
    "# Exploring column 'grade'\n",
    "data['class_size']['GRADE '].unique()"
   ]
  },
  {
   "cell_type": "code",
   "execution_count": 17,
   "id": "cd1149c8-8423-49dc-9abd-67ba44b54fbc",
   "metadata": {},
   "outputs": [
    {
     "data": {
      "text/plain": [
       "array(['GEN ED', 'CTT', 'SPEC ED', nan, 'G&T'], dtype=object)"
      ]
     },
     "execution_count": 17,
     "metadata": {},
     "output_type": "execute_result"
    }
   ],
   "source": [
    "# Exploring column 'program type' \n",
    "data['class_size']['PROGRAM TYPE'].unique()"
   ]
  },
  {
   "cell_type": "code",
   "execution_count": 18,
   "id": "cfec9c3d-1060-4a2b-ac89-b77c87c76d71",
   "metadata": {},
   "outputs": [
    {
     "name": "stdout",
     "output_type": "stream",
     "text": [
      "     CSD BOROUGH SCHOOL CODE                                    SCHOOL NAME  \\\n",
      "225    1       M        M292  Henry Street School for International Studies   \n",
      "226    1       M        M292  Henry Street School for International Studies   \n",
      "227    1       M        M292  Henry Street School for International Studies   \n",
      "228    1       M        M292  Henry Street School for International Studies   \n",
      "229    1       M        M292  Henry Street School for International Studies   \n",
      "\n",
      "    GRADE  PROGRAM TYPE CORE SUBJECT (MS CORE and 9-12 ONLY)  \\\n",
      "225  09-12       GEN ED                              ENGLISH   \n",
      "226  09-12       GEN ED                              ENGLISH   \n",
      "227  09-12       GEN ED                              ENGLISH   \n",
      "228  09-12       GEN ED                              ENGLISH   \n",
      "229  09-12       GEN ED                                 MATH   \n",
      "\n",
      "    CORE COURSE (MS CORE and 9-12 ONLY) SERVICE CATEGORY(K-9* ONLY)  \\\n",
      "225                           English 9                           -   \n",
      "226                          English 10                           -   \n",
      "227                          English 11                           -   \n",
      "228                          English 12                           -   \n",
      "229                  Integrated Algebra                           -   \n",
      "\n",
      "     NUMBER OF STUDENTS / SEATS FILLED  NUMBER OF SECTIONS  \\\n",
      "225                               63.0                 3.0   \n",
      "226                               79.0                 3.0   \n",
      "227                               38.0                 2.0   \n",
      "228                               69.0                 3.0   \n",
      "229                               53.0                 3.0   \n",
      "\n",
      "     AVERAGE CLASS SIZE  SIZE OF SMALLEST CLASS  SIZE OF LARGEST CLASS  \\\n",
      "225                21.0                    19.0                   25.0   \n",
      "226                26.3                    24.0                   31.0   \n",
      "227                19.0                    16.0                   22.0   \n",
      "228                23.0                    13.0                   30.0   \n",
      "229                17.7                    16.0                   21.0   \n",
      "\n",
      "    DATA SOURCE  SCHOOLWIDE PUPIL-TEACHER RATIO padded_csd     DBN  \n",
      "225       STARS                             NaN         01  01M292  \n",
      "226       STARS                             NaN         01  01M292  \n",
      "227       STARS                             NaN         01  01M292  \n",
      "228       STARS                             NaN         01  01M292  \n",
      "229       STARS                             NaN         01  01M292  \n"
     ]
    }
   ],
   "source": [
    "class_size = data['class_size']\n",
    "\n",
    "# Picking high schools rows only\n",
    "class_size = class_size[class_size['GRADE '] == '09-12'] # Adding space at the end of the name of the `'GRADE '` column to avoid generating errors \n",
    "\n",
    "# Selecting only the largest category of programs in each school\n",
    "class_size = class_size[class_size['PROGRAM TYPE'] == 'GEN ED']  \n",
    "\n",
    "print(class_size.head())"
   ]
  },
  {
   "cell_type": "markdown",
   "id": "43a97d0c-678b-476f-aee2-78b7d7743b3b",
   "metadata": {},
   "source": [
    "### Computing Average Class Sizes"
   ]
  },
  {
   "cell_type": "markdown",
   "id": "56df56b5-b882-45ee-9ccc-54c00e65c545",
   "metadata": {},
   "source": [
    "As shown above, `DBN` in `class_size` is still not completely unique. This is because of the values in the `CORE SUBJECT (MS CORE and 9-12 ONLY)` and `CORE COURSE (MS CORE and 9-12 ONLY)` columns. The two columns do not include all subjects and courses, however we want to include every single class. "
   ]
  },
  {
   "cell_type": "code",
   "execution_count": 19,
   "id": "2fa1e6f4-554a-4779-bc78-e16275cfddb5",
   "metadata": {},
   "outputs": [
    {
     "name": "stdout",
     "output_type": "stream",
     "text": [
      "      DBN  CSD  NUMBER OF STUDENTS / SEATS FILLED  NUMBER OF SECTIONS  \\\n",
      "0  01M292  1.0                            88.0000            4.000000   \n",
      "1  01M332  1.0                            46.0000            2.000000   \n",
      "2  01M378  1.0                            33.0000            1.000000   \n",
      "3  01M448  1.0                           105.6875            4.750000   \n",
      "4  01M450  1.0                            57.6000            2.733333   \n",
      "\n",
      "   AVERAGE CLASS SIZE  SIZE OF SMALLEST CLASS  SIZE OF LARGEST CLASS  \\\n",
      "0           22.564286                   18.50              26.571429   \n",
      "1           22.000000                   21.00              23.500000   \n",
      "2           33.000000                   33.00              33.000000   \n",
      "3           22.231250                   18.25              27.062500   \n",
      "4           21.200000                   19.40              22.866667   \n",
      "\n",
      "   SCHOOLWIDE PUPIL-TEACHER RATIO  \n",
      "0                             NaN  \n",
      "1                             NaN  \n",
      "2                             NaN  \n",
      "3                             NaN  \n",
      "4                             NaN  \n"
     ]
    }
   ],
   "source": [
    "# Taking average across all classes of each school to get a unique 'DBN' value \n",
    "class_size = class_size.groupby('DBN').agg(np.mean) # Grouping class_size by DBN and calculating the average of each group \n",
    "\n",
    "# The DBN column became the index - correct by resetting the index to keep DBN as a column\n",
    "class_size.reset_index(inplace=True) \n",
    "\n",
    "# Assigning the result back to class_size\n",
    "data['class_size'] = class_size\n",
    "\n",
    "# Displaying the first few rows to check that everything went okay\n",
    "print(data['class_size'].head())"
   ]
  },
  {
   "cell_type": "markdown",
   "id": "c0004758-c175-43e5-a7fe-ce2e258bb155",
   "metadata": {},
   "source": [
    "### Condensing the Demographics Data Set"
   ]
  },
  {
   "cell_type": "code",
   "execution_count": 20,
   "id": "0fb07635-6178-4d87-8661-305bf6ca7cbc",
   "metadata": {},
   "outputs": [
    {
     "data": {
      "text/html": [
       "<div>\n",
       "<style scoped>\n",
       "    .dataframe tbody tr th:only-of-type {\n",
       "        vertical-align: middle;\n",
       "    }\n",
       "\n",
       "    .dataframe tbody tr th {\n",
       "        vertical-align: top;\n",
       "    }\n",
       "\n",
       "    .dataframe thead th {\n",
       "        text-align: right;\n",
       "    }\n",
       "</style>\n",
       "<table border=\"1\" class=\"dataframe\">\n",
       "  <thead>\n",
       "    <tr style=\"text-align: right;\">\n",
       "      <th></th>\n",
       "      <th>DBN</th>\n",
       "      <th>Name</th>\n",
       "      <th>schoolyear</th>\n",
       "      <th>fl_percent</th>\n",
       "      <th>frl_percent</th>\n",
       "      <th>total_enrollment</th>\n",
       "      <th>prek</th>\n",
       "      <th>k</th>\n",
       "      <th>grade1</th>\n",
       "      <th>grade2</th>\n",
       "      <th>...</th>\n",
       "      <th>black_num</th>\n",
       "      <th>black_per</th>\n",
       "      <th>hispanic_num</th>\n",
       "      <th>hispanic_per</th>\n",
       "      <th>white_num</th>\n",
       "      <th>white_per</th>\n",
       "      <th>male_num</th>\n",
       "      <th>male_per</th>\n",
       "      <th>female_num</th>\n",
       "      <th>female_per</th>\n",
       "    </tr>\n",
       "  </thead>\n",
       "  <tbody>\n",
       "    <tr>\n",
       "      <th>0</th>\n",
       "      <td>01M015</td>\n",
       "      <td>P.S. 015 ROBERTO CLEMENTE</td>\n",
       "      <td>20052006</td>\n",
       "      <td>89.4</td>\n",
       "      <td>NaN</td>\n",
       "      <td>281</td>\n",
       "      <td>15</td>\n",
       "      <td>36</td>\n",
       "      <td>40</td>\n",
       "      <td>33</td>\n",
       "      <td>...</td>\n",
       "      <td>74</td>\n",
       "      <td>26.3</td>\n",
       "      <td>189</td>\n",
       "      <td>67.3</td>\n",
       "      <td>5</td>\n",
       "      <td>1.8</td>\n",
       "      <td>158.0</td>\n",
       "      <td>56.2</td>\n",
       "      <td>123.0</td>\n",
       "      <td>43.8</td>\n",
       "    </tr>\n",
       "    <tr>\n",
       "      <th>1</th>\n",
       "      <td>01M015</td>\n",
       "      <td>P.S. 015 ROBERTO CLEMENTE</td>\n",
       "      <td>20062007</td>\n",
       "      <td>89.4</td>\n",
       "      <td>NaN</td>\n",
       "      <td>243</td>\n",
       "      <td>15</td>\n",
       "      <td>29</td>\n",
       "      <td>39</td>\n",
       "      <td>38</td>\n",
       "      <td>...</td>\n",
       "      <td>68</td>\n",
       "      <td>28.0</td>\n",
       "      <td>153</td>\n",
       "      <td>63.0</td>\n",
       "      <td>4</td>\n",
       "      <td>1.6</td>\n",
       "      <td>140.0</td>\n",
       "      <td>57.6</td>\n",
       "      <td>103.0</td>\n",
       "      <td>42.4</td>\n",
       "    </tr>\n",
       "    <tr>\n",
       "      <th>2</th>\n",
       "      <td>01M015</td>\n",
       "      <td>P.S. 015 ROBERTO CLEMENTE</td>\n",
       "      <td>20072008</td>\n",
       "      <td>89.4</td>\n",
       "      <td>NaN</td>\n",
       "      <td>261</td>\n",
       "      <td>18</td>\n",
       "      <td>43</td>\n",
       "      <td>39</td>\n",
       "      <td>36</td>\n",
       "      <td>...</td>\n",
       "      <td>77</td>\n",
       "      <td>29.5</td>\n",
       "      <td>157</td>\n",
       "      <td>60.2</td>\n",
       "      <td>7</td>\n",
       "      <td>2.7</td>\n",
       "      <td>143.0</td>\n",
       "      <td>54.8</td>\n",
       "      <td>118.0</td>\n",
       "      <td>45.2</td>\n",
       "    </tr>\n",
       "    <tr>\n",
       "      <th>3</th>\n",
       "      <td>01M015</td>\n",
       "      <td>P.S. 015 ROBERTO CLEMENTE</td>\n",
       "      <td>20082009</td>\n",
       "      <td>89.4</td>\n",
       "      <td>NaN</td>\n",
       "      <td>252</td>\n",
       "      <td>17</td>\n",
       "      <td>37</td>\n",
       "      <td>44</td>\n",
       "      <td>32</td>\n",
       "      <td>...</td>\n",
       "      <td>75</td>\n",
       "      <td>29.8</td>\n",
       "      <td>149</td>\n",
       "      <td>59.1</td>\n",
       "      <td>7</td>\n",
       "      <td>2.8</td>\n",
       "      <td>149.0</td>\n",
       "      <td>59.1</td>\n",
       "      <td>103.0</td>\n",
       "      <td>40.9</td>\n",
       "    </tr>\n",
       "    <tr>\n",
       "      <th>4</th>\n",
       "      <td>01M015</td>\n",
       "      <td>P.S. 015 ROBERTO CLEMENTE</td>\n",
       "      <td>20092010</td>\n",
       "      <td></td>\n",
       "      <td>96.5</td>\n",
       "      <td>208</td>\n",
       "      <td>16</td>\n",
       "      <td>40</td>\n",
       "      <td>28</td>\n",
       "      <td>32</td>\n",
       "      <td>...</td>\n",
       "      <td>67</td>\n",
       "      <td>32.2</td>\n",
       "      <td>118</td>\n",
       "      <td>56.7</td>\n",
       "      <td>6</td>\n",
       "      <td>2.9</td>\n",
       "      <td>124.0</td>\n",
       "      <td>59.6</td>\n",
       "      <td>84.0</td>\n",
       "      <td>40.4</td>\n",
       "    </tr>\n",
       "    <tr>\n",
       "      <th>...</th>\n",
       "      <td>...</td>\n",
       "      <td>...</td>\n",
       "      <td>...</td>\n",
       "      <td>...</td>\n",
       "      <td>...</td>\n",
       "      <td>...</td>\n",
       "      <td>...</td>\n",
       "      <td>...</td>\n",
       "      <td>...</td>\n",
       "      <td>...</td>\n",
       "      <td>...</td>\n",
       "      <td>...</td>\n",
       "      <td>...</td>\n",
       "      <td>...</td>\n",
       "      <td>...</td>\n",
       "      <td>...</td>\n",
       "      <td>...</td>\n",
       "      <td>...</td>\n",
       "      <td>...</td>\n",
       "      <td>...</td>\n",
       "      <td>...</td>\n",
       "    </tr>\n",
       "    <tr>\n",
       "      <th>10070</th>\n",
       "      <td>32K564</td>\n",
       "      <td>BUSHWICK COMMUNITY HIGH SCHOOL</td>\n",
       "      <td>20072008</td>\n",
       "      <td>85.6</td>\n",
       "      <td>NaN</td>\n",
       "      <td>355</td>\n",
       "      <td>NaN</td>\n",
       "      <td>NaN</td>\n",
       "      <td>NaN</td>\n",
       "      <td>NaN</td>\n",
       "      <td>...</td>\n",
       "      <td>151</td>\n",
       "      <td>42.5</td>\n",
       "      <td>198</td>\n",
       "      <td>55.8</td>\n",
       "      <td>5</td>\n",
       "      <td>1.4</td>\n",
       "      <td>181.0</td>\n",
       "      <td>51.0</td>\n",
       "      <td>174.0</td>\n",
       "      <td>49.0</td>\n",
       "    </tr>\n",
       "    <tr>\n",
       "      <th>10071</th>\n",
       "      <td>32K564</td>\n",
       "      <td>BUSHWICK COMMUNITY HIGH SCHOOL</td>\n",
       "      <td>20082009</td>\n",
       "      <td>65.2</td>\n",
       "      <td>NaN</td>\n",
       "      <td>383</td>\n",
       "      <td>NaN</td>\n",
       "      <td>NaN</td>\n",
       "      <td>NaN</td>\n",
       "      <td>NaN</td>\n",
       "      <td>...</td>\n",
       "      <td>132</td>\n",
       "      <td>34.5</td>\n",
       "      <td>245</td>\n",
       "      <td>64.0</td>\n",
       "      <td>2</td>\n",
       "      <td>0.5</td>\n",
       "      <td>206.0</td>\n",
       "      <td>53.8</td>\n",
       "      <td>177.0</td>\n",
       "      <td>46.2</td>\n",
       "    </tr>\n",
       "    <tr>\n",
       "      <th>10072</th>\n",
       "      <td>32K564</td>\n",
       "      <td>BUSHWICK COMMUNITY HIGH SCHOOL</td>\n",
       "      <td>20092010</td>\n",
       "      <td></td>\n",
       "      <td>89.2</td>\n",
       "      <td>395</td>\n",
       "      <td>NaN</td>\n",
       "      <td>NaN</td>\n",
       "      <td>NaN</td>\n",
       "      <td>NaN</td>\n",
       "      <td>...</td>\n",
       "      <td>146</td>\n",
       "      <td>37.0</td>\n",
       "      <td>242</td>\n",
       "      <td>61.3</td>\n",
       "      <td>3</td>\n",
       "      <td>0.8</td>\n",
       "      <td>199.0</td>\n",
       "      <td>50.4</td>\n",
       "      <td>196.0</td>\n",
       "      <td>49.6</td>\n",
       "    </tr>\n",
       "    <tr>\n",
       "      <th>10073</th>\n",
       "      <td>32K564</td>\n",
       "      <td>BUSHWICK COMMUNITY HIGH SCHOOL</td>\n",
       "      <td>20102011</td>\n",
       "      <td></td>\n",
       "      <td>88.2</td>\n",
       "      <td>420</td>\n",
       "      <td>NaN</td>\n",
       "      <td>NaN</td>\n",
       "      <td>NaN</td>\n",
       "      <td>NaN</td>\n",
       "      <td>...</td>\n",
       "      <td>166</td>\n",
       "      <td>39.5</td>\n",
       "      <td>242</td>\n",
       "      <td>57.6</td>\n",
       "      <td>8</td>\n",
       "      <td>1.9</td>\n",
       "      <td>209.0</td>\n",
       "      <td>49.8</td>\n",
       "      <td>211.0</td>\n",
       "      <td>50.2</td>\n",
       "    </tr>\n",
       "    <tr>\n",
       "      <th>10074</th>\n",
       "      <td>32K564</td>\n",
       "      <td>BUSHWICK COMMUNITY HIGH SCHOOL</td>\n",
       "      <td>20112012</td>\n",
       "      <td>NaN</td>\n",
       "      <td>81.8</td>\n",
       "      <td>382</td>\n",
       "      <td></td>\n",
       "      <td></td>\n",
       "      <td></td>\n",
       "      <td></td>\n",
       "      <td>...</td>\n",
       "      <td>137</td>\n",
       "      <td>35.9</td>\n",
       "      <td>235</td>\n",
       "      <td>61.5</td>\n",
       "      <td>7</td>\n",
       "      <td>1.8</td>\n",
       "      <td>169.0</td>\n",
       "      <td>44.2</td>\n",
       "      <td>213.0</td>\n",
       "      <td>55.8</td>\n",
       "    </tr>\n",
       "  </tbody>\n",
       "</table>\n",
       "<p>10075 rows × 38 columns</p>\n",
       "</div>"
      ],
      "text/plain": [
       "          DBN                                              Name  schoolyear  \\\n",
       "0      01M015                         P.S. 015 ROBERTO CLEMENTE    20052006   \n",
       "1      01M015                         P.S. 015 ROBERTO CLEMENTE    20062007   \n",
       "2      01M015                         P.S. 015 ROBERTO CLEMENTE    20072008   \n",
       "3      01M015                         P.S. 015 ROBERTO CLEMENTE    20082009   \n",
       "4      01M015                         P.S. 015 ROBERTO CLEMENTE    20092010   \n",
       "...       ...                                               ...         ...   \n",
       "10070  32K564                    BUSHWICK COMMUNITY HIGH SCHOOL    20072008   \n",
       "10071  32K564                    BUSHWICK COMMUNITY HIGH SCHOOL    20082009   \n",
       "10072  32K564                    BUSHWICK COMMUNITY HIGH SCHOOL    20092010   \n",
       "10073  32K564                    BUSHWICK COMMUNITY HIGH SCHOOL    20102011   \n",
       "10074  32K564  BUSHWICK COMMUNITY HIGH SCHOOL                      20112012   \n",
       "\n",
       "      fl_percent  frl_percent  total_enrollment  prek     k grade1 grade2  \\\n",
       "0           89.4          NaN               281    15    36     40     33   \n",
       "1           89.4          NaN               243    15    29     39     38   \n",
       "2           89.4          NaN               261    18    43     39     36   \n",
       "3           89.4          NaN               252    17    37     44     32   \n",
       "4                        96.5               208    16    40     28     32   \n",
       "...          ...          ...               ...   ...   ...    ...    ...   \n",
       "10070       85.6          NaN               355   NaN   NaN    NaN    NaN   \n",
       "10071       65.2          NaN               383   NaN   NaN    NaN    NaN   \n",
       "10072                    89.2               395   NaN   NaN    NaN    NaN   \n",
       "10073                    88.2               420   NaN   NaN    NaN    NaN   \n",
       "10074        NaN         81.8               382                             \n",
       "\n",
       "       ... black_num black_per hispanic_num hispanic_per white_num white_per  \\\n",
       "0      ...        74      26.3          189         67.3         5       1.8   \n",
       "1      ...        68      28.0          153         63.0         4       1.6   \n",
       "2      ...        77      29.5          157         60.2         7       2.7   \n",
       "3      ...        75      29.8          149         59.1         7       2.8   \n",
       "4      ...        67      32.2          118         56.7         6       2.9   \n",
       "...    ...       ...       ...          ...          ...       ...       ...   \n",
       "10070  ...       151      42.5          198         55.8         5       1.4   \n",
       "10071  ...       132      34.5          245         64.0         2       0.5   \n",
       "10072  ...       146      37.0          242         61.3         3       0.8   \n",
       "10073  ...       166      39.5          242         57.6         8       1.9   \n",
       "10074  ...       137      35.9          235         61.5         7       1.8   \n",
       "\n",
       "      male_num male_per female_num female_per  \n",
       "0        158.0     56.2      123.0       43.8  \n",
       "1        140.0     57.6      103.0       42.4  \n",
       "2        143.0     54.8      118.0       45.2  \n",
       "3        149.0     59.1      103.0       40.9  \n",
       "4        124.0     59.6       84.0       40.4  \n",
       "...        ...      ...        ...        ...  \n",
       "10070    181.0     51.0      174.0       49.0  \n",
       "10071    206.0     53.8      177.0       46.2  \n",
       "10072    199.0     50.4      196.0       49.6  \n",
       "10073    209.0     49.8      211.0       50.2  \n",
       "10074    169.0     44.2      213.0       55.8  \n",
       "\n",
       "[10075 rows x 38 columns]"
      ]
     },
     "execution_count": 20,
     "metadata": {},
     "output_type": "execute_result"
    }
   ],
   "source": [
    "# Looking at the data\n",
    "data['demographics']"
   ]
  },
  {
   "cell_type": "code",
   "execution_count": 21,
   "id": "3d7a7f25-134c-4e1c-b333-c2710500f3c5",
   "metadata": {},
   "outputs": [
    {
     "name": "stdout",
     "output_type": "stream",
     "text": [
      "       DBN                                              Name  schoolyear  \\\n",
      "6   01M015  P.S. 015 ROBERTO CLEMENTE                           20112012   \n",
      "13  01M019  P.S. 019 ASHER LEVY                                 20112012   \n",
      "20  01M020  PS 020 ANNA SILVER                                  20112012   \n",
      "27  01M034  PS 034 FRANKLIN D ROOSEVELT                         20112012   \n",
      "35  01M063  PS 063 WILLIAM MCKINLEY                             20112012   \n",
      "\n",
      "   fl_percent  frl_percent  total_enrollment prek    k grade1 grade2  ...  \\\n",
      "6         NaN         89.4               189   13   31     35     28  ...   \n",
      "13        NaN         61.5               328   32   46     52     54  ...   \n",
      "20        NaN         92.5               626   52  102    121     87  ...   \n",
      "27        NaN         99.7               401   14   34     38     36  ...   \n",
      "35        NaN         78.9               176   18   20     30     21  ...   \n",
      "\n",
      "   black_num black_per hispanic_num hispanic_per white_num white_per male_num  \\\n",
      "6         63      33.3          109         57.7         4       2.1     97.0   \n",
      "13        81      24.7          158         48.2        28       8.5    147.0   \n",
      "20        55       8.8          357         57.0        16       2.6    330.0   \n",
      "27        90      22.4          275         68.6         8       2.0    204.0   \n",
      "35        41      23.3          110         62.5        15       8.5     97.0   \n",
      "\n",
      "   male_per female_num female_per  \n",
      "6      51.3       92.0       48.7  \n",
      "13     44.8      181.0       55.2  \n",
      "20     52.7      296.0       47.3  \n",
      "27     50.9      197.0       49.1  \n",
      "35     55.1       79.0       44.9  \n",
      "\n",
      "[5 rows x 38 columns]\n"
     ]
    }
   ],
   "source": [
    "# Selecting rows where `schoolyear` is `20112012` so that we can have unique `DBN`s\n",
    "data['demographics'] = data['demographics'][data['demographics']['schoolyear'] == 20112012] # `schoolyear` is an integer\n",
    "print(data['demographics'].head())"
   ]
  },
  {
   "cell_type": "markdown",
   "id": "8bd1e801-8686-4967-b882-4d4dce57a199",
   "metadata": {},
   "source": [
    "### Condensing the Graduation Data Set"
   ]
  },
  {
   "cell_type": "code",
   "execution_count": 22,
   "id": "d86ab66e-44be-4d38-b073-8f83f53e08a4",
   "metadata": {},
   "outputs": [
    {
     "data": {
      "text/html": [
       "<div>\n",
       "<style scoped>\n",
       "    .dataframe tbody tr th:only-of-type {\n",
       "        vertical-align: middle;\n",
       "    }\n",
       "\n",
       "    .dataframe tbody tr th {\n",
       "        vertical-align: top;\n",
       "    }\n",
       "\n",
       "    .dataframe thead th {\n",
       "        text-align: right;\n",
       "    }\n",
       "</style>\n",
       "<table border=\"1\" class=\"dataframe\">\n",
       "  <thead>\n",
       "    <tr style=\"text-align: right;\">\n",
       "      <th></th>\n",
       "      <th>Demographic</th>\n",
       "      <th>DBN</th>\n",
       "      <th>School Name</th>\n",
       "      <th>Cohort</th>\n",
       "      <th>Total Cohort</th>\n",
       "      <th>Total Grads - n</th>\n",
       "      <th>Total Grads - % of cohort</th>\n",
       "      <th>Total Regents - n</th>\n",
       "      <th>Total Regents - % of cohort</th>\n",
       "      <th>Total Regents - % of grads</th>\n",
       "      <th>...</th>\n",
       "      <th>Regents w/o Advanced - n</th>\n",
       "      <th>Regents w/o Advanced - % of cohort</th>\n",
       "      <th>Regents w/o Advanced - % of grads</th>\n",
       "      <th>Local - n</th>\n",
       "      <th>Local - % of cohort</th>\n",
       "      <th>Local - % of grads</th>\n",
       "      <th>Still Enrolled - n</th>\n",
       "      <th>Still Enrolled - % of cohort</th>\n",
       "      <th>Dropped Out - n</th>\n",
       "      <th>Dropped Out - % of cohort</th>\n",
       "    </tr>\n",
       "  </thead>\n",
       "  <tbody>\n",
       "    <tr>\n",
       "      <th>0</th>\n",
       "      <td>Total Cohort</td>\n",
       "      <td>01M292</td>\n",
       "      <td>HENRY STREET SCHOOL FOR INTERNATIONAL</td>\n",
       "      <td>2003</td>\n",
       "      <td>5</td>\n",
       "      <td>s</td>\n",
       "      <td>NaN</td>\n",
       "      <td>s</td>\n",
       "      <td>NaN</td>\n",
       "      <td>NaN</td>\n",
       "      <td>...</td>\n",
       "      <td>s</td>\n",
       "      <td>NaN</td>\n",
       "      <td>NaN</td>\n",
       "      <td>s</td>\n",
       "      <td>NaN</td>\n",
       "      <td>NaN</td>\n",
       "      <td>s</td>\n",
       "      <td>NaN</td>\n",
       "      <td>s</td>\n",
       "      <td>NaN</td>\n",
       "    </tr>\n",
       "    <tr>\n",
       "      <th>1</th>\n",
       "      <td>Total Cohort</td>\n",
       "      <td>01M292</td>\n",
       "      <td>HENRY STREET SCHOOL FOR INTERNATIONAL</td>\n",
       "      <td>2004</td>\n",
       "      <td>55</td>\n",
       "      <td>37</td>\n",
       "      <td>67.3</td>\n",
       "      <td>17</td>\n",
       "      <td>30.9</td>\n",
       "      <td>45.9</td>\n",
       "      <td>...</td>\n",
       "      <td>17</td>\n",
       "      <td>30.9</td>\n",
       "      <td>45.9</td>\n",
       "      <td>20</td>\n",
       "      <td>36.4</td>\n",
       "      <td>54.1</td>\n",
       "      <td>15</td>\n",
       "      <td>27.3</td>\n",
       "      <td>3</td>\n",
       "      <td>5.5</td>\n",
       "    </tr>\n",
       "    <tr>\n",
       "      <th>2</th>\n",
       "      <td>Total Cohort</td>\n",
       "      <td>01M292</td>\n",
       "      <td>HENRY STREET SCHOOL FOR INTERNATIONAL</td>\n",
       "      <td>2005</td>\n",
       "      <td>64</td>\n",
       "      <td>43</td>\n",
       "      <td>67.2</td>\n",
       "      <td>27</td>\n",
       "      <td>42.2</td>\n",
       "      <td>62.8</td>\n",
       "      <td>...</td>\n",
       "      <td>27</td>\n",
       "      <td>42.2</td>\n",
       "      <td>62.8</td>\n",
       "      <td>16</td>\n",
       "      <td>25.0</td>\n",
       "      <td>37.2</td>\n",
       "      <td>9</td>\n",
       "      <td>14.1</td>\n",
       "      <td>9</td>\n",
       "      <td>14.1</td>\n",
       "    </tr>\n",
       "    <tr>\n",
       "      <th>3</th>\n",
       "      <td>Total Cohort</td>\n",
       "      <td>01M292</td>\n",
       "      <td>HENRY STREET SCHOOL FOR INTERNATIONAL</td>\n",
       "      <td>2006</td>\n",
       "      <td>78</td>\n",
       "      <td>43</td>\n",
       "      <td>55.1</td>\n",
       "      <td>36</td>\n",
       "      <td>46.2</td>\n",
       "      <td>83.7</td>\n",
       "      <td>...</td>\n",
       "      <td>36</td>\n",
       "      <td>46.2</td>\n",
       "      <td>83.7</td>\n",
       "      <td>7</td>\n",
       "      <td>9.0</td>\n",
       "      <td>16.3</td>\n",
       "      <td>16</td>\n",
       "      <td>20.5</td>\n",
       "      <td>11</td>\n",
       "      <td>14.1</td>\n",
       "    </tr>\n",
       "    <tr>\n",
       "      <th>4</th>\n",
       "      <td>Total Cohort</td>\n",
       "      <td>01M292</td>\n",
       "      <td>HENRY STREET SCHOOL FOR INTERNATIONAL</td>\n",
       "      <td>2006 Aug</td>\n",
       "      <td>78</td>\n",
       "      <td>44</td>\n",
       "      <td>56.4</td>\n",
       "      <td>37</td>\n",
       "      <td>47.4</td>\n",
       "      <td>84.1</td>\n",
       "      <td>...</td>\n",
       "      <td>37</td>\n",
       "      <td>47.4</td>\n",
       "      <td>84.1</td>\n",
       "      <td>7</td>\n",
       "      <td>9.0</td>\n",
       "      <td>15.9</td>\n",
       "      <td>15</td>\n",
       "      <td>19.2</td>\n",
       "      <td>11</td>\n",
       "      <td>14.1</td>\n",
       "    </tr>\n",
       "    <tr>\n",
       "      <th>...</th>\n",
       "      <td>...</td>\n",
       "      <td>...</td>\n",
       "      <td>...</td>\n",
       "      <td>...</td>\n",
       "      <td>...</td>\n",
       "      <td>...</td>\n",
       "      <td>...</td>\n",
       "      <td>...</td>\n",
       "      <td>...</td>\n",
       "      <td>...</td>\n",
       "      <td>...</td>\n",
       "      <td>...</td>\n",
       "      <td>...</td>\n",
       "      <td>...</td>\n",
       "      <td>...</td>\n",
       "      <td>...</td>\n",
       "      <td>...</td>\n",
       "      <td>...</td>\n",
       "      <td>...</td>\n",
       "      <td>...</td>\n",
       "      <td>...</td>\n",
       "    </tr>\n",
       "    <tr>\n",
       "      <th>25091</th>\n",
       "      <td>Male</td>\n",
       "      <td>32K564</td>\n",
       "      <td>BUSHWICK COMMUNITY HIGH SCHOOL</td>\n",
       "      <td>2003</td>\n",
       "      <td>65</td>\n",
       "      <td>1</td>\n",
       "      <td>1.5</td>\n",
       "      <td>0</td>\n",
       "      <td>0.0</td>\n",
       "      <td>0.0</td>\n",
       "      <td>...</td>\n",
       "      <td>0</td>\n",
       "      <td>0.0</td>\n",
       "      <td>0.0</td>\n",
       "      <td>1</td>\n",
       "      <td>1.5</td>\n",
       "      <td>100.0</td>\n",
       "      <td>44.0</td>\n",
       "      <td>67.7</td>\n",
       "      <td>20.0</td>\n",
       "      <td>30.8</td>\n",
       "    </tr>\n",
       "    <tr>\n",
       "      <th>25092</th>\n",
       "      <td>Male</td>\n",
       "      <td>32K564</td>\n",
       "      <td>BUSHWICK COMMUNITY HIGH SCHOOL</td>\n",
       "      <td>2004</td>\n",
       "      <td>64</td>\n",
       "      <td>2</td>\n",
       "      <td>3.1</td>\n",
       "      <td>0</td>\n",
       "      <td>0.0</td>\n",
       "      <td>0.0</td>\n",
       "      <td>...</td>\n",
       "      <td>0</td>\n",
       "      <td>0.0</td>\n",
       "      <td>0.0</td>\n",
       "      <td>2</td>\n",
       "      <td>3.1</td>\n",
       "      <td>100.0</td>\n",
       "      <td>38.0</td>\n",
       "      <td>59.4</td>\n",
       "      <td>22.0</td>\n",
       "      <td>34.4</td>\n",
       "    </tr>\n",
       "    <tr>\n",
       "      <th>25093</th>\n",
       "      <td>Male</td>\n",
       "      <td>32K564</td>\n",
       "      <td>BUSHWICK COMMUNITY HIGH SCHOOL</td>\n",
       "      <td>2005</td>\n",
       "      <td>79</td>\n",
       "      <td>3</td>\n",
       "      <td>3.8</td>\n",
       "      <td>1</td>\n",
       "      <td>1.3</td>\n",
       "      <td>33.3</td>\n",
       "      <td>...</td>\n",
       "      <td>1</td>\n",
       "      <td>1.3</td>\n",
       "      <td>33.3</td>\n",
       "      <td>2</td>\n",
       "      <td>2.5</td>\n",
       "      <td>66.7</td>\n",
       "      <td>46.0</td>\n",
       "      <td>58.2</td>\n",
       "      <td>28.0</td>\n",
       "      <td>35.4</td>\n",
       "    </tr>\n",
       "    <tr>\n",
       "      <th>25094</th>\n",
       "      <td>Male</td>\n",
       "      <td>32K564</td>\n",
       "      <td>BUSHWICK COMMUNITY HIGH SCHOOL</td>\n",
       "      <td>2006</td>\n",
       "      <td>57</td>\n",
       "      <td>4</td>\n",
       "      <td>7.0</td>\n",
       "      <td>2</td>\n",
       "      <td>3.5</td>\n",
       "      <td>50.0</td>\n",
       "      <td>...</td>\n",
       "      <td>2</td>\n",
       "      <td>3.5</td>\n",
       "      <td>50.0</td>\n",
       "      <td>2</td>\n",
       "      <td>3.5</td>\n",
       "      <td>50.0</td>\n",
       "      <td>34.0</td>\n",
       "      <td>59.6</td>\n",
       "      <td>17.0</td>\n",
       "      <td>29.8</td>\n",
       "    </tr>\n",
       "    <tr>\n",
       "      <th>25095</th>\n",
       "      <td>Male</td>\n",
       "      <td>32K564</td>\n",
       "      <td>BUSHWICK COMMUNITY HIGH SCHOOL</td>\n",
       "      <td>2006 Aug</td>\n",
       "      <td>57</td>\n",
       "      <td>4</td>\n",
       "      <td>7.0</td>\n",
       "      <td>2</td>\n",
       "      <td>3.5</td>\n",
       "      <td>50.0</td>\n",
       "      <td>...</td>\n",
       "      <td>2</td>\n",
       "      <td>3.5</td>\n",
       "      <td>50.0</td>\n",
       "      <td>2</td>\n",
       "      <td>3.5</td>\n",
       "      <td>50.0</td>\n",
       "      <td>34.0</td>\n",
       "      <td>59.6</td>\n",
       "      <td>17.0</td>\n",
       "      <td>29.8</td>\n",
       "    </tr>\n",
       "  </tbody>\n",
       "</table>\n",
       "<p>25096 rows × 23 columns</p>\n",
       "</div>"
      ],
      "text/plain": [
       "        Demographic     DBN                            School Name    Cohort  \\\n",
       "0      Total Cohort  01M292  HENRY STREET SCHOOL FOR INTERNATIONAL      2003   \n",
       "1      Total Cohort  01M292  HENRY STREET SCHOOL FOR INTERNATIONAL      2004   \n",
       "2      Total Cohort  01M292  HENRY STREET SCHOOL FOR INTERNATIONAL      2005   \n",
       "3      Total Cohort  01M292  HENRY STREET SCHOOL FOR INTERNATIONAL      2006   \n",
       "4      Total Cohort  01M292  HENRY STREET SCHOOL FOR INTERNATIONAL  2006 Aug   \n",
       "...             ...     ...                                    ...       ...   \n",
       "25091          Male  32K564         BUSHWICK COMMUNITY HIGH SCHOOL      2003   \n",
       "25092          Male  32K564         BUSHWICK COMMUNITY HIGH SCHOOL      2004   \n",
       "25093          Male  32K564         BUSHWICK COMMUNITY HIGH SCHOOL      2005   \n",
       "25094          Male  32K564         BUSHWICK COMMUNITY HIGH SCHOOL      2006   \n",
       "25095          Male  32K564         BUSHWICK COMMUNITY HIGH SCHOOL  2006 Aug   \n",
       "\n",
       "       Total Cohort Total Grads - n  Total Grads - % of cohort  \\\n",
       "0                 5               s                        NaN   \n",
       "1                55              37                       67.3   \n",
       "2                64              43                       67.2   \n",
       "3                78              43                       55.1   \n",
       "4                78              44                       56.4   \n",
       "...             ...             ...                        ...   \n",
       "25091            65               1                        1.5   \n",
       "25092            64               2                        3.1   \n",
       "25093            79               3                        3.8   \n",
       "25094            57               4                        7.0   \n",
       "25095            57               4                        7.0   \n",
       "\n",
       "      Total Regents - n  Total Regents - % of cohort  \\\n",
       "0                     s                          NaN   \n",
       "1                    17                         30.9   \n",
       "2                    27                         42.2   \n",
       "3                    36                         46.2   \n",
       "4                    37                         47.4   \n",
       "...                 ...                          ...   \n",
       "25091                 0                          0.0   \n",
       "25092                 0                          0.0   \n",
       "25093                 1                          1.3   \n",
       "25094                 2                          3.5   \n",
       "25095                 2                          3.5   \n",
       "\n",
       "       Total Regents - % of grads  ... Regents w/o Advanced - n  \\\n",
       "0                             NaN  ...                        s   \n",
       "1                            45.9  ...                       17   \n",
       "2                            62.8  ...                       27   \n",
       "3                            83.7  ...                       36   \n",
       "4                            84.1  ...                       37   \n",
       "...                           ...  ...                      ...   \n",
       "25091                         0.0  ...                        0   \n",
       "25092                         0.0  ...                        0   \n",
       "25093                        33.3  ...                        1   \n",
       "25094                        50.0  ...                        2   \n",
       "25095                        50.0  ...                        2   \n",
       "\n",
       "       Regents w/o Advanced - % of cohort  Regents w/o Advanced - % of grads  \\\n",
       "0                                     NaN                                NaN   \n",
       "1                                    30.9                               45.9   \n",
       "2                                    42.2                               62.8   \n",
       "3                                    46.2                               83.7   \n",
       "4                                    47.4                               84.1   \n",
       "...                                   ...                                ...   \n",
       "25091                                 0.0                                0.0   \n",
       "25092                                 0.0                                0.0   \n",
       "25093                                 1.3                               33.3   \n",
       "25094                                 3.5                               50.0   \n",
       "25095                                 3.5                               50.0   \n",
       "\n",
       "      Local - n  Local - % of cohort  Local - % of grads Still Enrolled - n  \\\n",
       "0             s                  NaN                 NaN                  s   \n",
       "1            20                 36.4                54.1                 15   \n",
       "2            16                 25.0                37.2                  9   \n",
       "3             7                  9.0                16.3                 16   \n",
       "4             7                  9.0                15.9                 15   \n",
       "...         ...                  ...                 ...                ...   \n",
       "25091         1                  1.5               100.0               44.0   \n",
       "25092         2                  3.1               100.0               38.0   \n",
       "25093         2                  2.5                66.7               46.0   \n",
       "25094         2                  3.5                50.0               34.0   \n",
       "25095         2                  3.5                50.0               34.0   \n",
       "\n",
       "       Still Enrolled - % of cohort  Dropped Out - n Dropped Out - % of cohort  \n",
       "0                               NaN                s                       NaN  \n",
       "1                              27.3                3                       5.5  \n",
       "2                              14.1                9                      14.1  \n",
       "3                              20.5               11                      14.1  \n",
       "4                              19.2               11                      14.1  \n",
       "...                             ...              ...                       ...  \n",
       "25091                          67.7             20.0                      30.8  \n",
       "25092                          59.4             22.0                      34.4  \n",
       "25093                          58.2             28.0                      35.4  \n",
       "25094                          59.6             17.0                      29.8  \n",
       "25095                          59.6             17.0                      29.8  \n",
       "\n",
       "[25096 rows x 23 columns]"
      ]
     },
     "execution_count": 22,
     "metadata": {},
     "output_type": "execute_result"
    }
   ],
   "source": [
    "data['graduation']"
   ]
  },
  {
   "cell_type": "code",
   "execution_count": 23,
   "id": "28f76a4f-d42c-4667-bedd-d7c3931d397b",
   "metadata": {},
   "outputs": [
    {
     "name": "stdout",
     "output_type": "stream",
     "text": [
      "     Demographic     DBN                            School Name Cohort  \\\n",
      "3   Total Cohort  01M292  HENRY STREET SCHOOL FOR INTERNATIONAL   2006   \n",
      "10  Total Cohort  01M448    UNIVERSITY NEIGHBORHOOD HIGH SCHOOL   2006   \n",
      "17  Total Cohort  01M450             EAST SIDE COMMUNITY SCHOOL   2006   \n",
      "24  Total Cohort  01M509                MARTA VALLE HIGH SCHOOL   2006   \n",
      "31  Total Cohort  01M515  LOWER EAST SIDE PREPARATORY HIGH SCHO   2006   \n",
      "\n",
      "    Total Cohort Total Grads - n  Total Grads - % of cohort Total Regents - n  \\\n",
      "3             78              43                       55.1                36   \n",
      "10           124              53                       42.7                42   \n",
      "17            90              70                       77.8                67   \n",
      "24            84              47                       56.0                40   \n",
      "31           193             105                       54.4                91   \n",
      "\n",
      "    Total Regents - % of cohort  Total Regents - % of grads  ...  \\\n",
      "3                          46.2                        83.7  ...   \n",
      "10                         33.9                        79.2  ...   \n",
      "17                         74.4                        95.7  ...   \n",
      "24                         47.6                        85.1  ...   \n",
      "31                         47.2                        86.7  ...   \n",
      "\n",
      "   Regents w/o Advanced - n  Regents w/o Advanced - % of cohort  \\\n",
      "3                        36                                46.2   \n",
      "10                       34                                27.4   \n",
      "17                       67                                74.4   \n",
      "24                       23                                27.4   \n",
      "31                       22                                11.4   \n",
      "\n",
      "    Regents w/o Advanced - % of grads Local - n  Local - % of cohort  \\\n",
      "3                                83.7         7                  9.0   \n",
      "10                               64.2        11                  8.9   \n",
      "17                               95.7         3                  3.3   \n",
      "24                               48.9         7                  8.3   \n",
      "31                               21.0        14                  7.3   \n",
      "\n",
      "    Local - % of grads Still Enrolled - n  Still Enrolled - % of cohort  \\\n",
      "3                 16.3                 16                          20.5   \n",
      "10                20.8                 46                          37.1   \n",
      "17                 4.3                 15                          16.7   \n",
      "24                14.9                 25                          29.8   \n",
      "31                13.3                 53                          27.5   \n",
      "\n",
      "    Dropped Out - n Dropped Out - % of cohort  \n",
      "3                11                      14.1  \n",
      "10               20                      16.1  \n",
      "17                5                       5.6  \n",
      "24                5                       6.0  \n",
      "31               35                      18.1  \n",
      "\n",
      "[5 rows x 23 columns]\n"
     ]
    }
   ],
   "source": [
    "data['graduation'] = data['graduation'][data['graduation']['Cohort'] == '2006'] # Selecting most recent cohort available\n",
    "data['graduation'] = data['graduation'][data['graduation']['Demographic'] == 'Total Cohort'] # Selecting total cohort from demographic to get unique `DBN`s\n",
    "print(data['graduation'].head())"
   ]
  },
  {
   "cell_type": "markdown",
   "id": "b0b1dca4-84e6-4e0a-b396-46b70b90309a",
   "metadata": {},
   "source": [
    "## Converting AP Test Scores "
   ]
  },
  {
   "cell_type": "markdown",
   "id": "c8992f85-83cd-4a6d-9575-40807eb4cd54",
   "metadata": {},
   "source": [
    "The last task before combining all datasets is to convert the Advanced Placement (AP) test scores from string to numeric values. AP tests are exams that students take before applying to college, and they have a `1` to `5` scale and `3` or higher as a passing score. It is rarer to find AP exams in schools that luck funding or academic rigour. It would be interesting to discover if there is a correlation between AP exam scores and SAT scores. "
   ]
  },
  {
   "cell_type": "code",
   "execution_count": 24,
   "id": "b6c14d80-6a73-4361-ba13-22d364101160",
   "metadata": {},
   "outputs": [
    {
     "name": "stdout",
     "output_type": "stream",
     "text": [
      "DBN                                      object\n",
      "SchoolName                               object\n",
      "AP Test Takers                          float64\n",
      "Total Exams Taken                       float64\n",
      "Number of Exams with scores 3 4 or 5    float64\n",
      "dtype: object\n"
     ]
    }
   ],
   "source": [
    "# Creating a list with the columns to convert\n",
    "cols = ['AP Test Takers ', 'Total Exams Taken', 'Number of Exams with scores 3 4 or 5']\n",
    "\n",
    "# Initiating a for loop\n",
    "for col in cols: \n",
    "    data['ap_2010'][col] = pd.to_numeric(data['ap_2010'][col], errors = \"coerce\") # converting values from string to numeric\n",
    "\n",
    "# Exploring the data type after the changes \n",
    "print(data['ap_2010'].dtypes)"
   ]
  },
  {
   "cell_type": "markdown",
   "id": "d6f9d7ab-1572-4452-afa9-56bd9ce3603d",
   "metadata": {},
   "source": [
    "## Performing Left Joins"
   ]
  },
  {
   "cell_type": "code",
   "execution_count": 25,
   "id": "86241f8e-d4fa-4e72-af62-ed21c1488d1f",
   "metadata": {},
   "outputs": [
    {
     "name": "stdout",
     "output_type": "stream",
     "text": [
      "      DBN                                    SCHOOL NAME  \\\n",
      "0  01M292  HENRY STREET SCHOOL FOR INTERNATIONAL STUDIES   \n",
      "1  01M448            UNIVERSITY NEIGHBORHOOD HIGH SCHOOL   \n",
      "2  01M450                     EAST SIDE COMMUNITY SCHOOL   \n",
      "3  01M458                      FORSYTH SATELLITE ACADEMY   \n",
      "4  01M509                        MARTA VALLE HIGH SCHOOL   \n",
      "\n",
      "  Num of SAT Test Takers  SAT Critical Reading Avg. Score  \\\n",
      "0                     29                            355.0   \n",
      "1                     91                            383.0   \n",
      "2                     70                            377.0   \n",
      "3                      7                            414.0   \n",
      "4                     44                            390.0   \n",
      "\n",
      "   SAT Math Avg. Score  SAT Writing Avg. Score  sat_score  \\\n",
      "0                404.0                   363.0     1122.0   \n",
      "1                423.0                   366.0     1172.0   \n",
      "2                402.0                   370.0     1149.0   \n",
      "3                401.0                   359.0     1174.0   \n",
      "4                433.0                   384.0     1207.0   \n",
      "\n",
      "                     SchoolName  AP Test Takers   Total Exams Taken  ...  \\\n",
      "0                           NaN              NaN                NaN  ...   \n",
      "1  UNIVERSITY NEIGHBORHOOD H.S.             39.0               49.0  ...   \n",
      "2        EAST SIDE COMMUNITY HS             19.0               21.0  ...   \n",
      "3                           NaN              NaN                NaN  ...   \n",
      "4                           NaN              NaN                NaN  ...   \n",
      "\n",
      "   Regents w/o Advanced - n Regents w/o Advanced - % of cohort  \\\n",
      "0                        36                               46.2   \n",
      "1                        34                               27.4   \n",
      "2                        67                               74.4   \n",
      "3                       NaN                                NaN   \n",
      "4                        23                               27.4   \n",
      "\n",
      "  Regents w/o Advanced - % of grads Local - n  Local - % of cohort  \\\n",
      "0                              83.7         7                  9.0   \n",
      "1                              64.2        11                  8.9   \n",
      "2                              95.7         3                  3.3   \n",
      "3                               NaN       NaN                  NaN   \n",
      "4                              48.9         7                  8.3   \n",
      "\n",
      "  Local - % of grads  Still Enrolled - n Still Enrolled - % of cohort  \\\n",
      "0               16.3                  16                         20.5   \n",
      "1               20.8                  46                         37.1   \n",
      "2                4.3                  15                         16.7   \n",
      "3                NaN                 NaN                          NaN   \n",
      "4               14.9                  25                         29.8   \n",
      "\n",
      "   Dropped Out - n  Dropped Out - % of cohort  \n",
      "0               11                       14.1  \n",
      "1               20                       16.1  \n",
      "2                5                        5.6  \n",
      "3              NaN                        NaN  \n",
      "4                5                        6.0  \n",
      "\n",
      "[5 rows x 33 columns]\n",
      "(479, 33)\n"
     ]
    }
   ],
   "source": [
    "combined = data[\"sat_results\"]\n",
    "\n",
    "# Merging ap_2010 and graduation datasets with the sat_results datasets using a left join - since ap_2010 has lots of missing `DBN` values \n",
    "combined = combined.merge(data['ap_2010'], on='DBN', how='left') # Using `DBN` as the keyword argument to join the dataframes \n",
    "combined = combined.merge(data['graduation'], on='DBN', how='left') # Specifying 'left' as a keyword argument to indicate the correct join type \n",
    "\n",
    "# Displaying the first few rows to check that everything went okay\n",
    "print(combined.head(5))\n",
    "\n",
    "# Displaying how many rows exist now in the dataframe\n",
    "print(combined.shape)"
   ]
  },
  {
   "cell_type": "code",
   "execution_count": 26,
   "id": "995d7c3d-27c3-4a41-8ea1-87fe78ee923c",
   "metadata": {},
   "outputs": [
    {
     "data": {
      "text/html": [
       "<div>\n",
       "<style scoped>\n",
       "    .dataframe tbody tr th:only-of-type {\n",
       "        vertical-align: middle;\n",
       "    }\n",
       "\n",
       "    .dataframe tbody tr th {\n",
       "        vertical-align: top;\n",
       "    }\n",
       "\n",
       "    .dataframe thead th {\n",
       "        text-align: right;\n",
       "    }\n",
       "</style>\n",
       "<table border=\"1\" class=\"dataframe\">\n",
       "  <thead>\n",
       "    <tr style=\"text-align: right;\">\n",
       "      <th></th>\n",
       "      <th>DBN</th>\n",
       "      <th>SCHOOL NAME</th>\n",
       "      <th>Num of SAT Test Takers</th>\n",
       "      <th>SAT Critical Reading Avg. Score</th>\n",
       "      <th>SAT Math Avg. Score</th>\n",
       "      <th>SAT Writing Avg. Score</th>\n",
       "      <th>sat_score</th>\n",
       "      <th>SchoolName</th>\n",
       "      <th>AP Test Takers</th>\n",
       "      <th>Total Exams Taken</th>\n",
       "      <th>...</th>\n",
       "      <th>Regents w/o Advanced - n</th>\n",
       "      <th>Regents w/o Advanced - % of cohort</th>\n",
       "      <th>Regents w/o Advanced - % of grads</th>\n",
       "      <th>Local - n</th>\n",
       "      <th>Local - % of cohort</th>\n",
       "      <th>Local - % of grads</th>\n",
       "      <th>Still Enrolled - n</th>\n",
       "      <th>Still Enrolled - % of cohort</th>\n",
       "      <th>Dropped Out - n</th>\n",
       "      <th>Dropped Out - % of cohort</th>\n",
       "    </tr>\n",
       "  </thead>\n",
       "  <tbody>\n",
       "    <tr>\n",
       "      <th>0</th>\n",
       "      <td>01M292</td>\n",
       "      <td>HENRY STREET SCHOOL FOR INTERNATIONAL STUDIES</td>\n",
       "      <td>29</td>\n",
       "      <td>355.0</td>\n",
       "      <td>404.0</td>\n",
       "      <td>363.0</td>\n",
       "      <td>1122.0</td>\n",
       "      <td>NaN</td>\n",
       "      <td>NaN</td>\n",
       "      <td>NaN</td>\n",
       "      <td>...</td>\n",
       "      <td>36</td>\n",
       "      <td>46.2</td>\n",
       "      <td>83.7</td>\n",
       "      <td>7</td>\n",
       "      <td>9.0</td>\n",
       "      <td>16.3</td>\n",
       "      <td>16</td>\n",
       "      <td>20.5</td>\n",
       "      <td>11</td>\n",
       "      <td>14.1</td>\n",
       "    </tr>\n",
       "    <tr>\n",
       "      <th>1</th>\n",
       "      <td>01M448</td>\n",
       "      <td>UNIVERSITY NEIGHBORHOOD HIGH SCHOOL</td>\n",
       "      <td>91</td>\n",
       "      <td>383.0</td>\n",
       "      <td>423.0</td>\n",
       "      <td>366.0</td>\n",
       "      <td>1172.0</td>\n",
       "      <td>UNIVERSITY NEIGHBORHOOD H.S.</td>\n",
       "      <td>39.0</td>\n",
       "      <td>49.0</td>\n",
       "      <td>...</td>\n",
       "      <td>34</td>\n",
       "      <td>27.4</td>\n",
       "      <td>64.2</td>\n",
       "      <td>11</td>\n",
       "      <td>8.9</td>\n",
       "      <td>20.8</td>\n",
       "      <td>46</td>\n",
       "      <td>37.1</td>\n",
       "      <td>20</td>\n",
       "      <td>16.1</td>\n",
       "    </tr>\n",
       "    <tr>\n",
       "      <th>2</th>\n",
       "      <td>01M450</td>\n",
       "      <td>EAST SIDE COMMUNITY SCHOOL</td>\n",
       "      <td>70</td>\n",
       "      <td>377.0</td>\n",
       "      <td>402.0</td>\n",
       "      <td>370.0</td>\n",
       "      <td>1149.0</td>\n",
       "      <td>EAST SIDE COMMUNITY HS</td>\n",
       "      <td>19.0</td>\n",
       "      <td>21.0</td>\n",
       "      <td>...</td>\n",
       "      <td>67</td>\n",
       "      <td>74.4</td>\n",
       "      <td>95.7</td>\n",
       "      <td>3</td>\n",
       "      <td>3.3</td>\n",
       "      <td>4.3</td>\n",
       "      <td>15</td>\n",
       "      <td>16.7</td>\n",
       "      <td>5</td>\n",
       "      <td>5.6</td>\n",
       "    </tr>\n",
       "    <tr>\n",
       "      <th>3</th>\n",
       "      <td>01M458</td>\n",
       "      <td>FORSYTH SATELLITE ACADEMY</td>\n",
       "      <td>7</td>\n",
       "      <td>414.0</td>\n",
       "      <td>401.0</td>\n",
       "      <td>359.0</td>\n",
       "      <td>1174.0</td>\n",
       "      <td>NaN</td>\n",
       "      <td>NaN</td>\n",
       "      <td>NaN</td>\n",
       "      <td>...</td>\n",
       "      <td>NaN</td>\n",
       "      <td>NaN</td>\n",
       "      <td>NaN</td>\n",
       "      <td>NaN</td>\n",
       "      <td>NaN</td>\n",
       "      <td>NaN</td>\n",
       "      <td>NaN</td>\n",
       "      <td>NaN</td>\n",
       "      <td>NaN</td>\n",
       "      <td>NaN</td>\n",
       "    </tr>\n",
       "    <tr>\n",
       "      <th>4</th>\n",
       "      <td>01M509</td>\n",
       "      <td>MARTA VALLE HIGH SCHOOL</td>\n",
       "      <td>44</td>\n",
       "      <td>390.0</td>\n",
       "      <td>433.0</td>\n",
       "      <td>384.0</td>\n",
       "      <td>1207.0</td>\n",
       "      <td>NaN</td>\n",
       "      <td>NaN</td>\n",
       "      <td>NaN</td>\n",
       "      <td>...</td>\n",
       "      <td>23</td>\n",
       "      <td>27.4</td>\n",
       "      <td>48.9</td>\n",
       "      <td>7</td>\n",
       "      <td>8.3</td>\n",
       "      <td>14.9</td>\n",
       "      <td>25</td>\n",
       "      <td>29.8</td>\n",
       "      <td>5</td>\n",
       "      <td>6.0</td>\n",
       "    </tr>\n",
       "  </tbody>\n",
       "</table>\n",
       "<p>5 rows × 33 columns</p>\n",
       "</div>"
      ],
      "text/plain": [
       "      DBN                                    SCHOOL NAME  \\\n",
       "0  01M292  HENRY STREET SCHOOL FOR INTERNATIONAL STUDIES   \n",
       "1  01M448            UNIVERSITY NEIGHBORHOOD HIGH SCHOOL   \n",
       "2  01M450                     EAST SIDE COMMUNITY SCHOOL   \n",
       "3  01M458                      FORSYTH SATELLITE ACADEMY   \n",
       "4  01M509                        MARTA VALLE HIGH SCHOOL   \n",
       "\n",
       "  Num of SAT Test Takers  SAT Critical Reading Avg. Score  \\\n",
       "0                     29                            355.0   \n",
       "1                     91                            383.0   \n",
       "2                     70                            377.0   \n",
       "3                      7                            414.0   \n",
       "4                     44                            390.0   \n",
       "\n",
       "   SAT Math Avg. Score  SAT Writing Avg. Score  sat_score  \\\n",
       "0                404.0                   363.0     1122.0   \n",
       "1                423.0                   366.0     1172.0   \n",
       "2                402.0                   370.0     1149.0   \n",
       "3                401.0                   359.0     1174.0   \n",
       "4                433.0                   384.0     1207.0   \n",
       "\n",
       "                     SchoolName  AP Test Takers   Total Exams Taken  ...  \\\n",
       "0                           NaN              NaN                NaN  ...   \n",
       "1  UNIVERSITY NEIGHBORHOOD H.S.             39.0               49.0  ...   \n",
       "2        EAST SIDE COMMUNITY HS             19.0               21.0  ...   \n",
       "3                           NaN              NaN                NaN  ...   \n",
       "4                           NaN              NaN                NaN  ...   \n",
       "\n",
       "   Regents w/o Advanced - n Regents w/o Advanced - % of cohort  \\\n",
       "0                        36                               46.2   \n",
       "1                        34                               27.4   \n",
       "2                        67                               74.4   \n",
       "3                       NaN                                NaN   \n",
       "4                        23                               27.4   \n",
       "\n",
       "  Regents w/o Advanced - % of grads Local - n  Local - % of cohort  \\\n",
       "0                              83.7         7                  9.0   \n",
       "1                              64.2        11                  8.9   \n",
       "2                              95.7         3                  3.3   \n",
       "3                               NaN       NaN                  NaN   \n",
       "4                              48.9         7                  8.3   \n",
       "\n",
       "  Local - % of grads  Still Enrolled - n Still Enrolled - % of cohort  \\\n",
       "0               16.3                  16                         20.5   \n",
       "1               20.8                  46                         37.1   \n",
       "2                4.3                  15                         16.7   \n",
       "3                NaN                 NaN                          NaN   \n",
       "4               14.9                  25                         29.8   \n",
       "\n",
       "   Dropped Out - n  Dropped Out - % of cohort  \n",
       "0               11                       14.1  \n",
       "1               20                       16.1  \n",
       "2                5                        5.6  \n",
       "3              NaN                        NaN  \n",
       "4                5                        6.0  \n",
       "\n",
       "[5 rows x 33 columns]"
      ]
     },
     "execution_count": 26,
     "metadata": {},
     "output_type": "execute_result"
    }
   ],
   "source": [
    "combined.head()"
   ]
  },
  {
   "cell_type": "markdown",
   "id": "c214fde0-1f41-4eaf-99ec-2ea73337feef",
   "metadata": {},
   "source": [
    "## Performing Inner Joins"
   ]
  },
  {
   "cell_type": "code",
   "execution_count": 27,
   "id": "e6df812d-88c6-4569-9e22-eca454ef95ce",
   "metadata": {},
   "outputs": [
    {
     "name": "stdout",
     "output_type": "stream",
     "text": [
      "      DBN                                        SCHOOL NAME  \\\n",
      "0  01M292      HENRY STREET SCHOOL FOR INTERNATIONAL STUDIES   \n",
      "1  01M448                UNIVERSITY NEIGHBORHOOD HIGH SCHOOL   \n",
      "2  01M450                         EAST SIDE COMMUNITY SCHOOL   \n",
      "3  01M509                            MARTA VALLE HIGH SCHOOL   \n",
      "4  01M539  NEW EXPLORATIONS INTO SCIENCE, TECHNOLOGY AND ...   \n",
      "\n",
      "  Num of SAT Test Takers  SAT Critical Reading Avg. Score  \\\n",
      "0                     29                            355.0   \n",
      "1                     91                            383.0   \n",
      "2                     70                            377.0   \n",
      "3                     44                            390.0   \n",
      "4                    159                            522.0   \n",
      "\n",
      "   SAT Math Avg. Score  SAT Writing Avg. Score  sat_score  \\\n",
      "0                404.0                   363.0     1122.0   \n",
      "1                423.0                   366.0     1172.0   \n",
      "2                402.0                   370.0     1149.0   \n",
      "3                433.0                   384.0     1207.0   \n",
      "4                574.0                   525.0     1621.0   \n",
      "\n",
      "                       SchoolName  AP Test Takers   Total Exams Taken  ...  \\\n",
      "0                             NaN              NaN                NaN  ...   \n",
      "1    UNIVERSITY NEIGHBORHOOD H.S.             39.0               49.0  ...   \n",
      "2          EAST SIDE COMMUNITY HS             19.0               21.0  ...   \n",
      "3                             NaN              NaN                NaN  ...   \n",
      "4  NEW EXPLORATIONS SCI,TECH,MATH            255.0              377.0  ...   \n",
      "\n",
      "                                priority04                       priority05  \\\n",
      "0  Then to Manhattan students or residents  Then to New York City residents   \n",
      "1                                      NaN                              NaN   \n",
      "2                                      NaN                              NaN   \n",
      "3                                      NaN                              NaN   \n",
      "4                                      NaN                              NaN   \n",
      "\n",
      "  priority06 priority07  priority08 priority09  priority10  \\\n",
      "0        NaN        NaN         NaN        NaN         NaN   \n",
      "1        NaN        NaN         NaN        NaN         NaN   \n",
      "2        NaN        NaN         NaN        NaN         NaN   \n",
      "3        NaN        NaN         NaN        NaN         NaN   \n",
      "4        NaN        NaN         NaN        NaN         NaN   \n",
      "\n",
      "                                          Location 1        lat        lon  \n",
      "0  220 Henry Street\\nNew York, NY 10002\\n(40.7137...  40.713764 -73.985260  \n",
      "1  200 Monroe Street\\nNew York, NY 10002\\n(40.712...  40.712332 -73.984797  \n",
      "2  420 East 12 Street\\nNew York, NY 10009\\n(40.72...  40.729783 -73.983041  \n",
      "3  145 Stanton Street\\nNew York, NY 10002\\n(40.72...  40.720569 -73.985673  \n",
      "4  111 Columbia Street\\nNew York, NY 10002\\n(40.7...  40.718725 -73.979426  \n",
      "\n",
      "[5 rows x 159 columns]\n",
      "(363, 159)\n"
     ]
    }
   ],
   "source": [
    "to_merge = ['class_size', 'demographics', 'survey', 'hs_directory'] # Listing all the datasets to merge\n",
    "\n",
    "# Initiating a for loop to merge the datasets through an inner join - because the files contain more relevant info and have fewer missing `DBN` values \n",
    "for m in to_merge: \n",
    "    combined = combined.merge(data[m], on='DBN', how='inner') # Specifying the correct column to join on and the correct join type \n",
    "    \n",
    "print(combined.head(5))\n",
    "print(combined.shape)"
   ]
  },
  {
   "cell_type": "markdown",
   "id": "caa5ed67-d0cc-4fb5-bd08-7295d76f4b7a",
   "metadata": {},
   "source": [
    "## Filling in Missing Values "
   ]
  },
  {
   "cell_type": "markdown",
   "id": "446b4207-ed19-4864-8310-49c1ba033505",
   "metadata": {},
   "source": [
    "We now have lots of columns with null values (i.e., `NaN`) because we used `left` joins. If we hadn't performed a `left` join, all of the rows with missing data would have been lost. This would not have left us with many high schools in our data set."
   ]
  },
  {
   "cell_type": "code",
   "execution_count": 54,
   "id": "0454d1a8-f88c-4b75-9057-9cf64aea15e7",
   "metadata": {},
   "outputs": [
    {
     "name": "stdout",
     "output_type": "stream",
     "text": [
      "      DBN                                        SCHOOL NAME  \\\n",
      "0  01M292      HENRY STREET SCHOOL FOR INTERNATIONAL STUDIES   \n",
      "1  01M448                UNIVERSITY NEIGHBORHOOD HIGH SCHOOL   \n",
      "2  01M450                         EAST SIDE COMMUNITY SCHOOL   \n",
      "3  01M509                            MARTA VALLE HIGH SCHOOL   \n",
      "4  01M539  NEW EXPLORATIONS INTO SCIENCE, TECHNOLOGY AND ...   \n",
      "\n",
      "  Num of SAT Test Takers  SAT Critical Reading Avg. Score  \\\n",
      "0                     29                            355.0   \n",
      "1                     91                            383.0   \n",
      "2                     70                            377.0   \n",
      "3                     44                            390.0   \n",
      "4                    159                            522.0   \n",
      "\n",
      "   SAT Math Avg. Score  SAT Writing Avg. Score  sat_score  \\\n",
      "0                404.0                   363.0     1122.0   \n",
      "1                423.0                   366.0     1172.0   \n",
      "2                402.0                   370.0     1149.0   \n",
      "3                433.0                   384.0     1207.0   \n",
      "4                574.0                   525.0     1621.0   \n",
      "\n",
      "                       SchoolName  AP Test Takers   Total Exams Taken  ...  \\\n",
      "0                               0       129.028846         197.038462  ...   \n",
      "1    UNIVERSITY NEIGHBORHOOD H.S.        39.000000          49.000000  ...   \n",
      "2          EAST SIDE COMMUNITY HS        19.000000          21.000000  ...   \n",
      "3                               0       129.028846         197.038462  ...   \n",
      "4  NEW EXPLORATIONS SCI,TECH,MATH       255.000000         377.000000  ...   \n",
      "\n",
      "   priority06 priority07 priority08 priority09  priority10  \\\n",
      "0           0          0        0.0        0.0         0.0   \n",
      "1           0          0        0.0        0.0         0.0   \n",
      "2           0          0        0.0        0.0         0.0   \n",
      "3           0          0        0.0        0.0         0.0   \n",
      "4           0          0        0.0        0.0         0.0   \n",
      "\n",
      "                                          Location 1        lat        lon  \\\n",
      "0  220 Henry Street\\nNew York, NY 10002\\n(40.7137...  40.713764 -73.985260   \n",
      "1  200 Monroe Street\\nNew York, NY 10002\\n(40.712...  40.712332 -73.984797   \n",
      "2  420 East 12 Street\\nNew York, NY 10009\\n(40.72...  40.729783 -73.983041   \n",
      "3  145 Stanton Street\\nNew York, NY 10002\\n(40.72...  40.720569 -73.985673   \n",
      "4  111 Columbia Street\\nNew York, NY 10002\\n(40.7...  40.718725 -73.979426   \n",
      "\n",
      "   school_dist    ap_per  \n",
      "0           01  0.305756  \n",
      "1           01  0.098985  \n",
      "2           01  0.031773  \n",
      "3           01  0.351577  \n",
      "4           01  0.158091  \n",
      "\n",
      "[5 rows x 161 columns]\n"
     ]
    }
   ],
   "source": [
    "# Calculating means of all columns to fill in any missing value\n",
    "combined = combined.fillna(combined.mean(numeric_only=True)) \n",
    "\n",
    "# Filling in any remaining missing values with 0\n",
    "combined = combined.fillna(0) \n",
    "\n",
    "print(combined.head(5))"
   ]
  },
  {
   "cell_type": "markdown",
   "id": "20ebf57b-34f0-4c81-9a90-93b5e954d8f3",
   "metadata": {},
   "source": [
    "## Adding a School District Column for Mapping"
   ]
  },
  {
   "cell_type": "markdown",
   "id": "4a76128c-ecef-4563-b2e5-91da85ee54f2",
   "metadata": {},
   "source": [
    "Now we're done cleaning op our data! An interesting point to start our analysis from could be mapping the statistics out on a school district level. "
   ]
  },
  {
   "cell_type": "code",
   "execution_count": 29,
   "id": "b440a824-5284-4554-8a1d-dc437543a342",
   "metadata": {},
   "outputs": [
    {
     "name": "stdout",
     "output_type": "stream",
     "text": [
      "0    01\n",
      "1    01\n",
      "2    01\n",
      "3    01\n",
      "4    01\n",
      "Name: school_dist, dtype: object\n"
     ]
    }
   ],
   "source": [
    "# Creating a function to get the school district \n",
    "def get_first_two_chars(dbn): # The school district is just the first two characters of DBN \n",
    "    return dbn[0:2]\n",
    "\n",
    "# Applying the function\n",
    "combined['school_dist'] = combined['DBN'].apply(get_first_two_chars)\n",
    "\n",
    "print(combined['school_dist'].head())"
   ]
  },
  {
   "cell_type": "markdown",
   "id": "d96d7d0a-998b-48ad-8261-c281915917ba",
   "metadata": {},
   "source": [
    "# Analysing and Visualising the Data "
   ]
  },
  {
   "cell_type": "markdown",
   "id": "2aaabf52-b666-4830-81f3-34da76fcff72",
   "metadata": {},
   "source": [
    "Now that we have combined all the datasets into a clean one, we are ready to perform our analysis."
   ]
  },
  {
   "cell_type": "markdown",
   "id": "f2361754-cfaa-46f6-b95e-57186a1e975c",
   "metadata": {},
   "source": [
    "## Finding Correlations With the r Value"
   ]
  },
  {
   "cell_type": "code",
   "execution_count": 30,
   "id": "29c3603e-ba62-4a77-ae21-ce9dcf96bb2c",
   "metadata": {},
   "outputs": [
    {
     "name": "stdout",
     "output_type": "stream",
     "text": [
      "SAT Critical Reading Avg. Score         0.986820\n",
      "SAT Math Avg. Score                     0.972643\n",
      "SAT Writing Avg. Score                  0.987771\n",
      "sat_score                               1.000000\n",
      "AP Test Takers                          0.523140\n",
      "Total Exams Taken                       0.514333\n",
      "Number of Exams with scores 3 4 or 5    0.463245\n",
      "Total Cohort                            0.325144\n",
      "Total Grads - % of cohort               0.584234\n",
      "Total Regents - % of cohort             0.667603\n",
      "Total Regents - % of grads              0.494732\n",
      "Advanced Regents - % of cohort          0.771566\n",
      "Advanced Regents - % of grads           0.739927\n",
      "Regents w/o Advanced - % of cohort     -0.138188\n",
      "Regents w/o Advanced - % of grads      -0.456213\n",
      "Local - % of cohort                    -0.467951\n",
      "Local - % of grads                     -0.494732\n",
      "Still Enrolled - % of cohort           -0.491914\n",
      "Dropped Out - % of cohort              -0.458537\n",
      "CSD                                     0.042948\n",
      "NUMBER OF STUDENTS / SEATS FILLED       0.394626\n",
      "NUMBER OF SECTIONS                      0.362673\n",
      "AVERAGE CLASS SIZE                      0.381014\n",
      "SIZE OF SMALLEST CLASS                  0.249949\n",
      "SIZE OF LARGEST CLASS                   0.314434\n",
      "SCHOOLWIDE PUPIL-TEACHER RATIO               NaN\n",
      "schoolyear                                   NaN\n",
      "fl_percent                                   NaN\n",
      "frl_percent                            -0.722225\n",
      "total_enrollment                        0.367857\n",
      "ell_num                                -0.153778\n",
      "ell_percent                            -0.398750\n",
      "sped_num                                0.034933\n",
      "sped_percent                           -0.448170\n",
      "asian_num                               0.475445\n",
      "asian_per                               0.570730\n",
      "black_num                               0.027979\n",
      "black_per                              -0.284139\n",
      "hispanic_num                            0.025744\n",
      "hispanic_per                           -0.396985\n",
      "white_num                               0.449559\n",
      "white_per                               0.620718\n",
      "male_num                                0.325520\n",
      "male_per                               -0.112062\n",
      "female_num                              0.388631\n",
      "female_per                              0.112108\n",
      "rr_s                                    0.232199\n",
      "rr_t                                   -0.023386\n",
      "rr_p                                    0.047925\n",
      "N_s                                     0.423463\n",
      "N_t                                     0.291463\n",
      "N_p                                     0.421530\n",
      "saf_p_11                                0.122913\n",
      "com_p_11                               -0.115073\n",
      "eng_p_11                                0.020254\n",
      "aca_p_11                                0.035155\n",
      "saf_t_11                                0.313810\n",
      "com_t_11                                0.082419\n",
      "eng_t_11                                0.036906\n",
      "aca_t_11                                0.132348\n",
      "saf_s_11                                0.337639\n",
      "com_s_11                                0.187370\n",
      "eng_s_11                                0.213822\n",
      "aca_s_11                                0.339435\n",
      "saf_tot_11                              0.318753\n",
      "com_tot_11                              0.077310\n",
      "eng_tot_11                              0.100102\n",
      "aca_tot_11                              0.190966\n",
      "grade_span_max                               NaN\n",
      "expgrade_span_max                            NaN\n",
      "zip                                    -0.063977\n",
      "total_students                          0.407827\n",
      "number_programs                         0.117012\n",
      "priority08                                   NaN\n",
      "priority09                                   NaN\n",
      "priority10                                   NaN\n",
      "lat                                    -0.121029\n",
      "lon                                    -0.132222\n",
      "Name: sat_score, dtype: float64\n"
     ]
    }
   ],
   "source": [
    "# Looking for correlations between columns and the `sat_results` dataset\n",
    "correlations = combined.corr() # using the corr() method to find all possible correlations\n",
    "correlations = correlations['sat_score']\n",
    "\n",
    "# Pretty-printing to display all rows and columns in the dataframe\n",
    "with pd.option_context('display.max_rows', None, 'display.max_columns', None):\n",
    "    print(correlations)"
   ]
  },
  {
   "cell_type": "markdown",
   "id": "63266712-430d-43a6-a417-2b3087d25e69",
   "metadata": {},
   "source": [
    "With no surprise, `SAT Critical Reading Avg. Score`, `SAT Math Avg. Score`, and `SAT Writing Avg. Score` are strongly correlated to `sat_score`. \n",
    "\n",
    "Here are some other observations that we can make: \n",
    "- `total_enrollment` has a strong positive correlation with `sat_score`. This is an unexpected result as we would expect smaller schools where students would receive more attention to have higher scores. \n",
    "- Both the percentage of females (`female_per`) and the number of females (`female_num`) at a school correlate positively with `sat_Score`, whereas the same cannot be said about `male_per` and `male_sum`. This might indicate that women perform better at SAT scores than men.\n",
    "- Teacher and student ratings of school safety (`saf_t_11`, and `saf_s_11`) correlate with `sat_score`.\n",
    "- There is a correlation between student ratings of school academic standards (`aca_s_11`) and `sat_score`. However, this does not hold for ratings from teachers and parents (`aca_t_11`, and `aca_p_11`).\n",
    "- There is a strong (positive) correlation between `white_per` and `asian_per` and `sat_score`. There is also a strong (negative) correlation between `black_per` and `hispanic_per` and `sat_score`. This could mean that there is strong racial inequality in SAT scores.\n",
    "- There is a strong negative correlation between the percentage of students eligible for reduced school lunch based on household income (`frl_percent`) and `sat_score`."
   ]
  },
  {
   "cell_type": "markdown",
   "id": "0b0b5895-978d-49ad-a29a-cfdb7cba8358",
   "metadata": {},
   "source": [
    "### Plotting Enrollment With the Plot() Accessor"
   ]
  },
  {
   "cell_type": "markdown",
   "id": "3315efe3-0852-4550-9c06-522ef56ada5b",
   "metadata": {},
   "source": [
    "Since enrollment seems to have a strong correlation with SAT scores, let's make a scatterplot of `total_enrollment` vs `sat_score`. "
   ]
  },
  {
   "cell_type": "code",
   "execution_count": 31,
   "id": "bf478d55-87b9-4a6c-84d7-b395bfe31ecc",
   "metadata": {},
   "outputs": [
    {
     "data": {
      "image/png": "[encoded data removed]",
      "text/plain": [
       "<Figure size 432x288 with 1 Axes>"
      ]
     },
     "metadata": {
      "needs_background": "light"
     },
     "output_type": "display_data"
    }
   ],
   "source": [
    "combined.plot.scatter(x=\"total_enrollment\", y=\"sat_score\") # using the pandas.DataFrame.plot() accessor on the dataframe\n",
    "plt.title(\"Correlation Between SAT Score and Enrolment\") # giving a title to the plot\n",
    "plt.show()"
   ]
  },
  {
   "cell_type": "markdown",
   "id": "61adbdcf-e781-4689-8a6c-dcf25506420d",
   "metadata": {},
   "source": [
    "It doesn't look like there's a strong correlation between `sat_score` and `total_enrollment`. However, there is an interesting cluster where both `sat_score` and `total_enrollment` are low. This might be what is making the r value so high. It's worth extracting the names of the schools in this cluster so that we can investigate them more. "
   ]
  },
  {
   "cell_type": "code",
   "execution_count": 32,
   "id": "deaa63ea-5860-49e7-8b3d-15e13a010e03",
   "metadata": {},
   "outputs": [
    {
     "name": "stdout",
     "output_type": "stream",
     "text": [
      "91       INTERNATIONAL COMMUNITY HIGH SCHOOL\n",
      "125                                        0\n",
      "126          BRONX INTERNATIONAL HIGH SCHOOL\n",
      "139    KINGSBRIDGE INTERNATIONAL HIGH SCHOOL\n",
      "141    INTERNATIONAL SCHOOL FOR LIBERAL ARTS\n",
      "176                                        0\n",
      "179            HIGH SCHOOL OF WORLD CULTURES\n",
      "188       BROOKLYN INTERNATIONAL HIGH SCHOOL\n",
      "225    INTERNATIONAL HIGH SCHOOL AT PROSPECT\n",
      "237               IT TAKES A VILLAGE ACADEMY\n",
      "253                MULTICULTURAL HIGH SCHOOL\n",
      "286    PAN AMERICAN INTERNATIONAL HIGH SCHOO\n",
      "Name: School Name, dtype: object\n"
     ]
    }
   ],
   "source": [
    "low_enrollment = combined[combined['total_enrollment'] < 1000] # Filtering the dataframe to keep only relevant rows \n",
    "low_enrollment = low_enrollment[low_enrollment['sat_score'] < 1000] # Displaying all of the items in the School Name column of low_enrollment \n",
    "print(low_enrollment['School Name'])"
   ]
  },
  {
   "cell_type": "markdown",
   "id": "990b3b4a-fba0-4193-badd-2afb86db2163",
   "metadata": {},
   "source": [
    "### Plotting Language Learning Percentage"
   ]
  },
  {
   "cell_type": "markdown",
   "id": "a08b9557-f09f-463c-abea-27202dd7d8f3",
   "metadata": {},
   "source": [
    "It is believed that most of the high schools with low total enrollment and low SAT scores have high percentages of English language learners. This shows that it is actually `ell_percent` that is strongly correlated to `sat_score`, not `total_enrollment`. Let's plot out these two values to explore this relationship further."
   ]
  },
  {
   "cell_type": "code",
   "execution_count": 33,
   "id": "617e83e3-f8d5-47d7-95ca-d7adc304c905",
   "metadata": {},
   "outputs": [
    {
     "data": {
      "image/png": "[encoded data removed]",
      "text/plain": [
       "<Figure size 432x288 with 1 Axes>"
      ]
     },
     "metadata": {
      "needs_background": "light"
     },
     "output_type": "display_data"
    }
   ],
   "source": [
    "import matplotlib.pyplot as plt\n",
    "combined.plot.scatter(x=\"ell_percent\", y=\"sat_score\")\n",
    "plt.title(\"Correlation Between SAT Score and English Language Learners\") # giving a title to the plot\n",
    "plt.show()"
   ]
  },
  {
   "cell_type": "markdown",
   "id": "8121a8e7-a930-4896-a01d-5c77e0d52562",
   "metadata": {},
   "source": [
    "### Calculating District-Level Statistics"
   ]
  },
  {
   "cell_type": "markdown",
   "id": "3c6c30a8-eb48-4ef7-bea3-87a96490b471",
   "metadata": {},
   "source": [
    "Looking at the school-by-school variation makes it harder to analyse our data. One way to make it easier to read is to aggregate the data by district. "
   ]
  },
  {
   "cell_type": "code",
   "execution_count": 34,
   "id": "3989f084-f899-4bda-8768-8fa462774d83",
   "metadata": {},
   "outputs": [
    {
     "name": "stdout",
     "output_type": "stream",
     "text": [
      "  school_dist  SAT Critical Reading Avg. Score  SAT Math Avg. Score  \\\n",
      "0          01                       441.833333           473.333333   \n",
      "1          02                       426.619092           444.186256   \n",
      "2          03                       428.529851           437.997512   \n",
      "3          04                       402.142857           416.285714   \n",
      "4          05                       427.159915           438.236674   \n",
      "\n",
      "   SAT Writing Avg. Score    sat_score  AP Test Takers   Total Exams Taken  \\\n",
      "0              439.333333  1354.500000       116.681090         173.019231   \n",
      "1              424.832836  1295.638184       128.908454         201.516827   \n",
      "2              426.915672  1293.443035       156.183494         244.522436   \n",
      "3              405.714286  1224.142857       129.016484         183.879121   \n",
      "4              419.666098  1285.062687        85.722527         115.725275   \n",
      "\n",
      "   Number of Exams with scores 3 4 or 5  Total Cohort  \\\n",
      "0                            135.800000     93.500000   \n",
      "1                            157.495833    158.647849   \n",
      "2                            193.087500    183.384409   \n",
      "3                            151.035714    113.857143   \n",
      "4                            142.464286    143.677419   \n",
      "\n",
      "   Total Grads - % of cohort  ...  grade_span_max  expgrade_span_max  \\\n",
      "0                  71.333333  ...            12.0               12.0   \n",
      "1                  75.453574  ...            12.0               12.0   \n",
      "2                  74.029937  ...            12.0               12.0   \n",
      "3                  76.257143  ...            12.0               12.0   \n",
      "4                  75.200881  ...            12.0               12.0   \n",
      "\n",
      "            zip  total_students  number_programs  priority08  priority09  \\\n",
      "0  10003.166667      659.500000         1.333333         0.0         0.0   \n",
      "1  10023.770833      621.395833         1.416667         0.0         0.0   \n",
      "2  10023.750000      717.916667         2.000000         0.0         0.0   \n",
      "3  10029.857143      580.857143         1.142857         0.0         0.0   \n",
      "4  10030.142857      609.857143         1.142857         0.0         0.0   \n",
      "\n",
      "   priority10        lat        lon  \n",
      "0         0.0  40.719022 -73.982377  \n",
      "1         0.0  40.739699 -73.991386  \n",
      "2         0.0  40.781574 -73.977370  \n",
      "3         0.0  40.793449 -73.943215  \n",
      "4         0.0  40.817077 -73.949251  \n",
      "\n",
      "[5 rows x 79 columns]\n"
     ]
    }
   ],
   "source": [
    "import numpy\n",
    "\n",
    "# Aggregating data to better understand how 'ell_percent' varies district-by-district\n",
    "districts = combined.groupby('school_dist').agg(numpy.mean) # Grouping 'combined' by 'school_dist' and calculating the average of each group\n",
    "districts.reset_index(inplace=True) # Resetting the index \n",
    "\n",
    "print(districts.head())"
   ]
  },
  {
   "cell_type": "markdown",
   "id": "603c6b92-c61b-48a0-b3f8-3b2873f1136a",
   "metadata": {},
   "source": [
    "# Analysing the Data "
   ]
  },
  {
   "cell_type": "markdown",
   "id": "5b80cfd9-1446-4f38-96f2-3c7806fe0669",
   "metadata": {},
   "source": [
    "Now we have all the tools to analyse our data in greater depth. Let's start by plotting the correlation between survey fields and SAT scores."
   ]
  },
  {
   "cell_type": "markdown",
   "id": "63413ab5-30e8-47c0-9090-bd8546f15b04",
   "metadata": {},
   "source": [
    "## Plotting survey correlations"
   ]
  },
  {
   "cell_type": "code",
   "execution_count": 56,
   "id": "cd9da58d-bfaa-4aa8-b33b-301f6cf6bcb4",
   "metadata": {},
   "outputs": [
    {
     "ename": "ValueError",
     "evalue": "list.remove(x): x not in list",
     "output_type": "error",
     "traceback": [
      "\u001b[0;31m---------------------------------------------------------------------------\u001b[0m",
      "\u001b[0;31mValueError\u001b[0m                                Traceback (most recent call last)",
      "Input \u001b[0;32mIn [56]\u001b[0m, in \u001b[0;36m<cell line: 4>\u001b[0;34m()\u001b[0m\n\u001b[1;32m      1\u001b[0m get_ipython()\u001b[38;5;241m.\u001b[39mrun_line_magic(\u001b[38;5;124m'\u001b[39m\u001b[38;5;124mmatplotlib\u001b[39m\u001b[38;5;124m'\u001b[39m, \u001b[38;5;124m'\u001b[39m\u001b[38;5;124minline\u001b[39m\u001b[38;5;124m'\u001b[39m)\n\u001b[1;32m      3\u001b[0m \u001b[38;5;66;03m# DBN is not a useful numerical value for correlation - fixing this by removing it\u001b[39;00m\n\u001b[0;32m----> 4\u001b[0m \u001b[43msurvey_fields\u001b[49m\u001b[38;5;241;43m.\u001b[39;49m\u001b[43mremove\u001b[49m\u001b[43m(\u001b[49m\u001b[38;5;124;43m\"\u001b[39;49m\u001b[38;5;124;43mDBN\u001b[39;49m\u001b[38;5;124;43m\"\u001b[39;49m\u001b[43m)\u001b[49m\n\u001b[1;32m      6\u001b[0m combined\u001b[38;5;241m.\u001b[39mcorr()[\u001b[38;5;124m\"\u001b[39m\u001b[38;5;124msat_score\u001b[39m\u001b[38;5;124m\"\u001b[39m][survey_fields]\u001b[38;5;241m.\u001b[39mplot\u001b[38;5;241m.\u001b[39mbar(title\u001b[38;5;241m=\u001b[39m\u001b[38;5;124m\"\u001b[39m\u001b[38;5;124mCorrelations Between SAT Scores and Survey Fields\u001b[39m\u001b[38;5;124m\"\u001b[39m) \u001b[38;5;66;03m# giving a title to the plot\u001b[39;00m\n\u001b[1;32m      7\u001b[0m plt\u001b[38;5;241m.\u001b[39mylabel(\u001b[38;5;124m'\u001b[39m\u001b[38;5;124mCorrelation\u001b[39m\u001b[38;5;124m'\u001b[39m) \u001b[38;5;66;03m# labelling the axis \u001b[39;00m\n",
      "\u001b[0;31mValueError\u001b[0m: list.remove(x): x not in list"
     ]
    }
   ],
   "source": [
    "%matplotlib inline\n",
    "\n",
    "# DBN is not a useful numerical value for correlation - fixing this by removing it\n",
    "survey_fields.remove(\"DBN\")\n",
    "\n",
    "combined.corr()[\"sat_score\"][survey_fields].plot.bar(title=\"Correlations Between SAT Scores and Survey Fields\") # giving a title to the plot\n",
    "plt.ylabel('Correlation') # labelling the axis \n",
    "plt.xlabel('Survey fields') \n",
    "plt.show()"
   ]
  },
  {
   "cell_type": "markdown",
   "id": "ee6f9deb-cc3a-4967-bcba-ccb521056a18",
   "metadata": {},
   "source": [
    "We can make some observations: \n",
    "\n",
    "- There is a strong positive correlation between `N_s`, `N_t`, `N_p` and `sat_score`. This might mean that the more the respondents, the more likely students will score high on the SAT test.\n",
    "\n",
    "- The highest negative correlation is between `comp_p_11` and `sat_score`. This could mean that the less communication there is in the school, the lower the sat scores.\n",
    " \n",
    "- There is a strong correlation between `saf_p_10` and `saf_t_10` and `sat_score`. The safer the environment at school is, the more likely students will be performing well. \n",
    " \n",
    "- There is a strong correlation between `aca_s_11` and `sat_score`. The way the student perceives the academic standards might have an impact on their test. Yet, this is not true for teachers nor parents' expectations. These scored low in correlation with `sat_score`.\n",
    " \n",
    "- There is not a strong correlation between `eng_t_11` and `eng_p_11` and the `sat_score`. The less engaged teachers and parents are, the less likely students will score high in their test. But, there is a strong correlation between `eng_s_11` and the `sat_score`. This  means that more engaged students  will be more likely to score high."
   ]
  },
  {
   "cell_type": "markdown",
   "id": "4a4d4ec0-a071-4466-911c-fd7d2f17a0c1",
   "metadata": {},
   "source": [
    "## Exploring Safety and SAT Scores "
   ]
  },
  {
   "cell_type": "markdown",
   "id": "5fb5a5ba-fccc-4f8e-9cc9-9aabf96296a5",
   "metadata": {},
   "source": [
    "We discovered a strong correlation between how teachers perceive safety and SAT scores. Let's dig into this relationship a bit further to find out which schools have low safety scores."
   ]
  },
  {
   "cell_type": "code",
   "execution_count": 49,
   "id": "fc1fd327-1069-4698-8434-f0a9a5f62972",
   "metadata": {},
   "outputs": [
    {
     "data": {
      "image/png": "[encoded data removed]",
      "text/plain": [
       "<Figure size 432x288 with 1 Axes>"
      ]
     },
     "metadata": {
      "needs_background": "light"
     },
     "output_type": "display_data"
    }
   ],
   "source": [
    "import matplotlib.pyplot as plt\n",
    "\n",
    "# Creating a scatter plot with the values \n",
    "combined.plot.scatter(x='saf_s_11', y='sat_score')\n",
    "plt.title(\"Correlation Between SAT Score and Safety Scores\") # giving a title to the plot\n",
    "\n",
    "plt.show()"
   ]
  },
  {
   "cell_type": "markdown",
   "id": "1b71483f-f426-4fb3-855f-1e2eb9506a4f",
   "metadata": {},
   "source": [
    "Judging from the plot above, there is not a strong correlation. There's a large cluster of schools and a few others going off in three different directions. It looks like there are a few schools with high SAT scores and high safety scores. There are a few schools with low SAT scores and low safety scores. Finally, no \n",
    "school with safety scores lower than `6.5` has an average SAT score higher than `1500`.\n",
    "\n",
    "Let's now calculate the average safety score for each borough to discover which borough has the lowest safet score in high schools."
   ]
  },
  {
   "cell_type": "markdown",
   "id": "e34cae84-ee8b-49c0-8b5c-ef6fe90dd767",
   "metadata": {},
   "source": [
    "### Borough Safety"
   ]
  },
  {
   "cell_type": "code",
   "execution_count": 37,
   "id": "b9fee53f-0bcf-4145-a91a-141c53e19681",
   "metadata": {},
   "outputs": [
    {
     "name": "stdout",
     "output_type": "stream",
     "text": [
      "boro\n",
      "Bronx            6.606577\n",
      "Brooklyn         6.370755\n",
      "Manhattan        6.831370\n",
      "Queens           6.721875\n",
      "Staten Island    6.530000\n",
      "Name: saf_s_11, dtype: float64\n"
     ]
    }
   ],
   "source": [
    "# Computing average safety score for each borough \n",
    "boros = combined.groupby('boro').agg(numpy.mean)['saf_s_11']\n",
    "print(boros)"
   ]
  },
  {
   "cell_type": "markdown",
   "id": "baffdd90-375c-4647-b256-63802466650d",
   "metadata": {},
   "source": [
    "It looks like Manhattan and Queens have the highest average safety score, whereas Brooklyn has the lowest."
   ]
  },
  {
   "cell_type": "markdown",
   "id": "323eaf7b-fd45-4a47-8298-a0133b9edb17",
   "metadata": {},
   "source": [
    "## Exploring Race and SAT Scores"
   ]
  },
  {
   "cell_type": "markdown",
   "id": "8ac3542b-1417-4f61-9242-f638290f0a16",
   "metadata": {},
   "source": [
    "Let's now explore the correlation between each race and the SAT scores to see if there are racial differences in SAT performance."
   ]
  },
  {
   "cell_type": "code",
   "execution_count": 48,
   "id": "34bedcf0-1b20-430c-8381-3cf030583d37",
   "metadata": {},
   "outputs": [
    {
     "data": {
      "image/png": "[encoded data removed]",
      "text/plain": [
       "<Figure size 432x288 with 1 Axes>"
      ]
     },
     "metadata": {
      "needs_background": "light"
     },
     "output_type": "display_data"
    }
   ],
   "source": [
    "# Listing race fields \n",
    "race_fields = ['white_per', 'asian_per', 'black_per', 'hispanic_per']\n",
    "\n",
    "# Making a bar plot of the correlations between race fields and SAT scores \n",
    "combined.corr()[\"sat_score\"][race_fields].plot.bar(title=\"Correlations Between SAT Scores and Races\") # giving a title to the plot\n",
    "plt.ylabel('Correlation') # labelling the axis \n",
    "plt.xlabel('Races') \n",
    "plt.show()"
   ]
  },
  {
   "cell_type": "markdown",
   "id": "8c8bf879-a124-4494-82dd-b8bf1ae936b8",
   "metadata": {},
   "source": [
    "There is a strong correlation between `sat_score` and white and asian races. This might mean that the SAT test is easier for these people to complete. Yet, there is a strong negative correlation between `sat_score` and `black_per` and `hispanic_per`. This might reinforce the argument that the SAT scores are designed in favour of white people. Let's explore schools with low SAT scores and high values for `hispanic_per`."
   ]
  },
  {
   "cell_type": "markdown",
   "id": "75a5426c-8fd2-448f-844c-2a56c4f2792b",
   "metadata": {},
   "source": [
    "### Exploring Hispanic Demographics and SAT Scores"
   ]
  },
  {
   "cell_type": "code",
   "execution_count": 50,
   "id": "c2585082-cc0d-482e-be0e-7515931210f2",
   "metadata": {},
   "outputs": [
    {
     "data": {
      "text/plain": [
       "Text(0.5, 1.0, 'Correlation Between SAT Score and Hispanic Race')"
      ]
     },
     "execution_count": 50,
     "metadata": {},
     "output_type": "execute_result"
    },
    {
     "data": {
      "image/png": "[encoded data removed]",
      "text/plain": [
       "<Figure size 432x288 with 1 Axes>"
      ]
     },
     "metadata": {
      "needs_background": "light"
     },
     "output_type": "display_data"
    }
   ],
   "source": [
    "combined.plot.scatter(x='hispanic_per', y='sat_score')\n",
    "plt.title(\"Correlation Between SAT Score and Hispanic Race\") # giving a title to the plot"
   ]
  },
  {
   "cell_type": "markdown",
   "id": "14b8bd23-fdd5-4658-aa87-7b3ccc20fa30",
   "metadata": {},
   "source": [
    "It looks like there is no strong correlation between `hispanic_per` and `sat_score`. There are a few schools where there is a low percentage of hispanic students and a high SAT score. Other few schools show a high amount of hispanic students and a low SAT score. There is also a cluster where the percentage of hispanic students is around `60` and the SAT score is around `1200`. Let's now research that cluster with a `hispanic_per` greater than `95%`. "
   ]
  },
  {
   "cell_type": "code",
   "execution_count": 40,
   "id": "e34aef87-4404-4634-8a69-add3333cfcfa",
   "metadata": {},
   "outputs": [
    {
     "name": "stdout",
     "output_type": "stream",
     "text": [
      "44                         MANHATTAN BRIDGES HIGH SCHOOL\n",
      "82      WASHINGTON HEIGHTS EXPEDITIONARY LEARNING SCHOOL\n",
      "89     GREGORIO LUPERON HIGH SCHOOL FOR SCIENCE AND M...\n",
      "125                  ACADEMY FOR LANGUAGE AND TECHNOLOGY\n",
      "141                INTERNATIONAL SCHOOL FOR LIBERAL ARTS\n",
      "176     PAN AMERICAN INTERNATIONAL HIGH SCHOOL AT MONROE\n",
      "253                            MULTICULTURAL HIGH SCHOOL\n",
      "286               PAN AMERICAN INTERNATIONAL HIGH SCHOOL\n",
      "Name: SCHOOL NAME, dtype: object\n"
     ]
    }
   ],
   "source": [
    "# Finding the school names in the data\n",
    "print(combined[combined['hispanic_per'] > 95]['SCHOOL NAME'])"
   ]
  },
  {
   "cell_type": "markdown",
   "id": "0910de66-1a8f-40be-8615-1c42f960d729",
   "metadata": {},
   "source": [
    "The schools listed serve students who migrated to the U.S.. In these schools, students are learning English, which might explain why they scored low on their SAT tests."
   ]
  },
  {
   "cell_type": "code",
   "execution_count": 41,
   "id": "1fda409a-6414-4e51-8f1e-5e92abc82173",
   "metadata": {},
   "outputs": [
    {
     "name": "stdout",
     "output_type": "stream",
     "text": [
      "37                                STUYVESANT HIGH SCHOOL\n",
      "151                         BRONX HIGH SCHOOL OF SCIENCE\n",
      "187                       BROOKLYN TECHNICAL HIGH SCHOOL\n",
      "327    QUEENS HIGH SCHOOL FOR THE SCIENCES AT YORK CO...\n",
      "356                  STATEN ISLAND TECHNICAL HIGH SCHOOL\n",
      "Name: SCHOOL NAME, dtype: object\n"
     ]
    }
   ],
   "source": [
    "# Researching schools with `hispanic_per` less than 10% and an avg SAT score greater than `1800`\n",
    "print(combined[(combined['hispanic_per'] < 10) & (combined['sat_score'] > 1800)]['SCHOOL NAME'])"
   ]
  },
  {
   "cell_type": "markdown",
   "id": "51f7f9ce-8dc2-43dc-a985-73f857a6b936",
   "metadata": {},
   "source": [
    "These schools are specialised in science and technology. They receive extra fundings and only accept students who pass an entrance exam. Although this does not explain the low percentage of hispanic students, it says why their students tend to do better on the SAT exam. "
   ]
  },
  {
   "cell_type": "markdown",
   "id": "1ec4707a-b714-41b1-ae88-fa8882ed7885",
   "metadata": {},
   "source": [
    "## Exploring Gender and SAT Scores"
   ]
  },
  {
   "cell_type": "code",
   "execution_count": 51,
   "id": "4714ab8e-ba47-44e6-90ef-d21393adca9a",
   "metadata": {},
   "outputs": [
    {
     "data": {
      "image/png": "[encoded data removed]",
      "text/plain": [
       "<Figure size 432x288 with 1 Axes>"
      ]
     },
     "metadata": {
      "needs_background": "light"
     },
     "output_type": "display_data"
    }
   ],
   "source": [
    "# Listing gender fields \n",
    "gender_fields = ['male_per', 'female_per']\n",
    "\n",
    "combined.corr()[\"sat_score\"][gender_fields].plot.bar(title=\"Correlations Between SAT Scores and Gender\") # giving a title to the plot\n",
    "plt.ylabel('Correlation') # labelling the axis \n",
    "plt.xlabel('Genders') \n",
    "plt.show()"
   ]
  },
  {
   "cell_type": "markdown",
   "id": "6235f547-c6dd-43c1-90e3-f827edcdc5d3",
   "metadata": {},
   "source": [
    "There is a positive correlation between `female_per` and `sat_score` and a negative one between `male_per` and `sat_scores`. Female students are probably better than male students on SAT exams. "
   ]
  },
  {
   "cell_type": "code",
   "execution_count": 52,
   "id": "2f8d0f96-b961-4af4-837a-9261a222498c",
   "metadata": {},
   "outputs": [
    {
     "data": {
      "image/png": "[encoded data removed]",
      "text/plain": [
       "<Figure size 432x288 with 1 Axes>"
      ]
     },
     "metadata": {
      "needs_background": "light"
     },
     "output_type": "display_data"
    }
   ],
   "source": [
    "combined.plot.scatter(x='female_per', y='sat_score')\n",
    "plt.title(\"Correlation Between SAT Score and Female Students\") # giving a title to the plot\n",
    "plt.show()"
   ]
  },
  {
   "cell_type": "markdown",
   "id": "c09de3eb-83e0-4e62-8e80-511e507bbaee",
   "metadata": {},
   "source": [
    "However, we did not find a correlation between schools with high percentage of female students and SAT scores. In fact, there are very few schools where there is a high percentage of female students and a low SAT score. There are also very few schools which have a medium amount of female students with very high scores.\n",
    "\n",
    "Moreover, we found an interesting cluster where the majority of the schools have from `40%` to `60%` of female students who have a SAT score average of approximately `1200`."
   ]
  },
  {
   "cell_type": "code",
   "execution_count": 44,
   "id": "e6593d52-0625-48a0-985f-47c4707e283f",
   "metadata": {},
   "outputs": [
    {
     "name": "stdout",
     "output_type": "stream",
     "text": [
      "5                         BARD HIGH SCHOOL EARLY COLLEGE\n",
      "26                         ELEANOR ROOSEVELT HIGH SCHOOL\n",
      "60                                    BEACON HIGH SCHOOL\n",
      "61     FIORELLO H. LAGUARDIA HIGH SCHOOL OF MUSIC & A...\n",
      "302                          TOWNSEND HARRIS HIGH SCHOOL\n",
      "Name: SCHOOL NAME, dtype: object\n"
     ]
    }
   ],
   "source": [
    "# Finding school names in the data\n",
    "print(combined[(combined['female_per'] > 60) & (combined['sat_score'] > 1700)]['SCHOOL NAME'])"
   ]
  },
  {
   "cell_type": "markdown",
   "id": "183cc6ff-489d-4319-a20c-3e770340240e",
   "metadata": {},
   "source": [
    "It looks like these school are very selective liberal art schools which have high academic standards."
   ]
  },
  {
   "cell_type": "markdown",
   "id": "8b2d9a87-4fb7-4c21-9046-40d522432079",
   "metadata": {},
   "source": [
    "## Exploring AP Scores vs. SAT Scores"
   ]
  },
  {
   "cell_type": "markdown",
   "id": "e7130be0-cb95-4f37-8543-15c35a60fa92",
   "metadata": {},
   "source": [
    "Let's now look at the percentage of students in each school who took at least one AP exam. Will we find a correlation with the SAT scores?"
   ]
  },
  {
   "cell_type": "code",
   "execution_count": 45,
   "id": "3de8b02d-39b4-4e2a-8a56-543b86839573",
   "metadata": {},
   "outputs": [
    {
     "name": "stdout",
     "output_type": "stream",
     "text": [
      "0      0.305756\n",
      "1      0.098985\n",
      "2      0.031773\n",
      "3      0.351577\n",
      "4      0.158091\n",
      "         ...   \n",
      "358    0.077558\n",
      "359    0.297301\n",
      "360    0.190955\n",
      "361    0.026616\n",
      "362    0.073593\n",
      "Name: ap_per, Length: 363, dtype: float64\n"
     ]
    }
   ],
   "source": [
    "# Dividing the number of students who took the AP test by the `total_enrollment` column\n",
    "combined['ap_per'] = (combined['AP Test Takers '] / combined['total_enrollment']) # Adding an extra space at the end of the `AP Test Takers ` column\n",
    "print(combined['ap_per'])"
   ]
  },
  {
   "cell_type": "code",
   "execution_count": 53,
   "id": "03c5cd55-e5be-4ce2-bea5-b5db34621677",
   "metadata": {},
   "outputs": [
    {
     "data": {
      "text/plain": [
       "Text(0.5, 1.0, 'Correlation Between SAT Score and AP Score')"
      ]
     },
     "execution_count": 53,
     "metadata": {},
     "output_type": "execute_result"
    },
    {
     "data": {
      "image/png": "[encoded data removed]",
      "text/plain": [
       "<Figure size 432x288 with 1 Axes>"
      ]
     },
     "metadata": {
      "needs_background": "light"
     },
     "output_type": "display_data"
    }
   ],
   "source": [
    "# Investigating the relationship between AP scores and SAT scores\n",
    "combined.plot.scatter(x='ap_per', y='sat_score')\n",
    "plt.title(\"Correlation Between SAT Score and AP Score\") # giving a title to the plot"
   ]
  },
  {
   "cell_type": "markdown",
   "id": "c10b4c62-5e51-4e56-9661-308ac71b4b57",
   "metadata": {},
   "source": [
    "There is a weak correlation between students who took the AP test and the SAT score."
   ]
  },
  {
   "cell_type": "markdown",
   "id": "c26bd236-4f36-4410-b0ee-aa255a3f51be",
   "metadata": {},
   "source": [
    "# Conclusions"
   ]
  },
  {
   "cell_type": "markdown",
   "id": "4b7683fb-d15f-4fca-a01b-ef89e2e31279",
   "metadata": {},
   "source": [
    "In this project, we've explored the relationship between SAT scores and demographic factors in New York City (NYC) public high schools. Since New York City has a very diverse population, comparing multiple demographics such as race, income, and gender is a good way to check whether the SAT test is fair or not. We've performed our analysis by combining multiple datasets into a single, clean pandas dataframe. We then started analysing the data by creating correlations and plotting them. We eventually found out that:\n",
    "\n",
    "- Safety scores by students and teachers are indicators of high SAT scores.\n",
    "- White/ asian races could indicate high SAT scores, whereas black/ hispanic would indicate low SAT scores. \n",
    "- Gender is not a very strong indicator of high SAT scores.\n",
    "- There are exceptions to the races and gender indicators. However, these are schools with high technical funding and standardised admission criterias. \n",
    "\n",
    "Despite our final conclusions, there's still quite a bit of analysis to do. For instance, we could try to determine whether there's a correlation between class size of SAT scores. Another question could be: \"Which neighborhood has the best school?\": we could try to answer this question by combining our current dataset with one that contains property values. In that way, we could find the least expensive neighborhoods that have good schools. Finally, it'd be interesting to investigate the differences between parents, teachers, and students responses to surveys. "
   ]
  }
 ],
 "metadata": {
  "kernelspec": {
   "display_name": "Python 3 (ipykernel)",
   "language": "python",
   "name": "python3"
  },
  "language_info": {
   "codemirror_mode": {
    "name": "ipython",
    "version": 3
   },
   "file_extension": ".py",
   "mimetype": "text/x-python",
   "name": "python",
   "nbconvert_exporter": "python",
   "pygments_lexer": "ipython3",
   "version": "3.9.12"
  }
 },
 "nbformat": 4,
 "nbformat_minor": 5
}
